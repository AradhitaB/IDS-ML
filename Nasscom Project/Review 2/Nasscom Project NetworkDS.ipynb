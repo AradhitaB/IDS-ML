{
 "cells": [
  {
   "cell_type": "code",
   "execution_count": 1,
   "metadata": {},
   "outputs": [],
   "source": [
    "%matplotlib inline"
   ]
  },
  {
   "cell_type": "code",
   "execution_count": 2,
   "metadata": {},
   "outputs": [],
   "source": [
    "# import all necessary libraries\n",
    "import pandas as pd\n",
    "import numpy as np\n",
    "import matplotlib as mp\n",
    "import seaborn as sns\n",
    "from sklearn.model_selection import train_test_split\n",
    "from sklearn.model_selection import StratifiedShuffleSplit\n",
    "from sklearn.preprocessing import LabelEncoder\n",
    "from pandas.plotting import scatter_matrix"
   ]
  },
  {
   "cell_type": "code",
   "execution_count": 3,
   "metadata": {},
   "outputs": [],
   "source": [
    "data = pd.read_csv('Train_Test_Network.csv')"
   ]
  },
  {
   "cell_type": "code",
   "execution_count": 4,
   "metadata": {
    "scrolled": true
   },
   "outputs": [
    {
     "data": {
      "text/html": [
       "<div>\n",
       "<style scoped>\n",
       "    .dataframe tbody tr th:only-of-type {\n",
       "        vertical-align: middle;\n",
       "    }\n",
       "\n",
       "    .dataframe tbody tr th {\n",
       "        vertical-align: top;\n",
       "    }\n",
       "\n",
       "    .dataframe thead th {\n",
       "        text-align: right;\n",
       "    }\n",
       "</style>\n",
       "<table border=\"1\" class=\"dataframe\">\n",
       "  <thead>\n",
       "    <tr style=\"text-align: right;\">\n",
       "      <th></th>\n",
       "      <th>ts</th>\n",
       "      <th>src_ip</th>\n",
       "      <th>src_port</th>\n",
       "      <th>dst_ip</th>\n",
       "      <th>dst_port</th>\n",
       "      <th>proto</th>\n",
       "      <th>service</th>\n",
       "      <th>duration</th>\n",
       "      <th>src_bytes</th>\n",
       "      <th>dst_bytes</th>\n",
       "      <th>...</th>\n",
       "      <th>http_response_body_len</th>\n",
       "      <th>http_status_code</th>\n",
       "      <th>http_user_agent</th>\n",
       "      <th>http_orig_mime_types</th>\n",
       "      <th>http_resp_mime_types</th>\n",
       "      <th>weird_name</th>\n",
       "      <th>weird_addl</th>\n",
       "      <th>weird_notice</th>\n",
       "      <th>label</th>\n",
       "      <th>type</th>\n",
       "    </tr>\n",
       "  </thead>\n",
       "  <tbody>\n",
       "    <tr>\n",
       "      <th>0</th>\n",
       "      <td>1554198358</td>\n",
       "      <td>3.122.49.24</td>\n",
       "      <td>1883</td>\n",
       "      <td>192.168.1.152</td>\n",
       "      <td>52976</td>\n",
       "      <td>tcp</td>\n",
       "      <td>-</td>\n",
       "      <td>80549.530260</td>\n",
       "      <td>1762852</td>\n",
       "      <td>41933215</td>\n",
       "      <td>...</td>\n",
       "      <td>0</td>\n",
       "      <td>0</td>\n",
       "      <td>-</td>\n",
       "      <td>-</td>\n",
       "      <td>-</td>\n",
       "      <td>bad_TCP_checksum</td>\n",
       "      <td>-</td>\n",
       "      <td>F</td>\n",
       "      <td>0</td>\n",
       "      <td>normal</td>\n",
       "    </tr>\n",
       "    <tr>\n",
       "      <th>1</th>\n",
       "      <td>1554198358</td>\n",
       "      <td>192.168.1.79</td>\n",
       "      <td>47260</td>\n",
       "      <td>192.168.1.255</td>\n",
       "      <td>15600</td>\n",
       "      <td>udp</td>\n",
       "      <td>-</td>\n",
       "      <td>0.000000</td>\n",
       "      <td>0</td>\n",
       "      <td>0</td>\n",
       "      <td>...</td>\n",
       "      <td>0</td>\n",
       "      <td>0</td>\n",
       "      <td>-</td>\n",
       "      <td>-</td>\n",
       "      <td>-</td>\n",
       "      <td>-</td>\n",
       "      <td>-</td>\n",
       "      <td>-</td>\n",
       "      <td>0</td>\n",
       "      <td>normal</td>\n",
       "    </tr>\n",
       "    <tr>\n",
       "      <th>2</th>\n",
       "      <td>1554198359</td>\n",
       "      <td>192.168.1.152</td>\n",
       "      <td>1880</td>\n",
       "      <td>192.168.1.152</td>\n",
       "      <td>51782</td>\n",
       "      <td>tcp</td>\n",
       "      <td>-</td>\n",
       "      <td>0.000000</td>\n",
       "      <td>0</td>\n",
       "      <td>0</td>\n",
       "      <td>...</td>\n",
       "      <td>0</td>\n",
       "      <td>0</td>\n",
       "      <td>-</td>\n",
       "      <td>-</td>\n",
       "      <td>-</td>\n",
       "      <td>bad_TCP_checksum</td>\n",
       "      <td>-</td>\n",
       "      <td>F</td>\n",
       "      <td>0</td>\n",
       "      <td>normal</td>\n",
       "    </tr>\n",
       "    <tr>\n",
       "      <th>3</th>\n",
       "      <td>1554198359</td>\n",
       "      <td>192.168.1.152</td>\n",
       "      <td>34296</td>\n",
       "      <td>192.168.1.152</td>\n",
       "      <td>10502</td>\n",
       "      <td>tcp</td>\n",
       "      <td>-</td>\n",
       "      <td>0.000000</td>\n",
       "      <td>0</td>\n",
       "      <td>0</td>\n",
       "      <td>...</td>\n",
       "      <td>0</td>\n",
       "      <td>0</td>\n",
       "      <td>-</td>\n",
       "      <td>-</td>\n",
       "      <td>-</td>\n",
       "      <td>-</td>\n",
       "      <td>-</td>\n",
       "      <td>-</td>\n",
       "      <td>0</td>\n",
       "      <td>normal</td>\n",
       "    </tr>\n",
       "    <tr>\n",
       "      <th>4</th>\n",
       "      <td>1554198362</td>\n",
       "      <td>192.168.1.152</td>\n",
       "      <td>46608</td>\n",
       "      <td>192.168.1.190</td>\n",
       "      <td>53</td>\n",
       "      <td>udp</td>\n",
       "      <td>dns</td>\n",
       "      <td>0.000549</td>\n",
       "      <td>0</td>\n",
       "      <td>298</td>\n",
       "      <td>...</td>\n",
       "      <td>0</td>\n",
       "      <td>0</td>\n",
       "      <td>-</td>\n",
       "      <td>-</td>\n",
       "      <td>-</td>\n",
       "      <td>bad_UDP_checksum</td>\n",
       "      <td>-</td>\n",
       "      <td>F</td>\n",
       "      <td>0</td>\n",
       "      <td>normal</td>\n",
       "    </tr>\n",
       "  </tbody>\n",
       "</table>\n",
       "<p>5 rows × 45 columns</p>\n",
       "</div>"
      ],
      "text/plain": [
       "           ts         src_ip  src_port         dst_ip  dst_port proto service  \\\n",
       "0  1554198358    3.122.49.24      1883  192.168.1.152     52976   tcp       -   \n",
       "1  1554198358   192.168.1.79     47260  192.168.1.255     15600   udp       -   \n",
       "2  1554198359  192.168.1.152      1880  192.168.1.152     51782   tcp       -   \n",
       "3  1554198359  192.168.1.152     34296  192.168.1.152     10502   tcp       -   \n",
       "4  1554198362  192.168.1.152     46608  192.168.1.190        53   udp     dns   \n",
       "\n",
       "       duration  src_bytes  dst_bytes  ... http_response_body_len  \\\n",
       "0  80549.530260    1762852   41933215  ...                      0   \n",
       "1      0.000000          0          0  ...                      0   \n",
       "2      0.000000          0          0  ...                      0   \n",
       "3      0.000000          0          0  ...                      0   \n",
       "4      0.000549          0        298  ...                      0   \n",
       "\n",
       "   http_status_code  http_user_agent  http_orig_mime_types  \\\n",
       "0                 0                -                     -   \n",
       "1                 0                -                     -   \n",
       "2                 0                -                     -   \n",
       "3                 0                -                     -   \n",
       "4                 0                -                     -   \n",
       "\n",
       "   http_resp_mime_types        weird_name weird_addl  weird_notice  label  \\\n",
       "0                     -  bad_TCP_checksum          -             F      0   \n",
       "1                     -                 -          -             -      0   \n",
       "2                     -  bad_TCP_checksum          -             F      0   \n",
       "3                     -                 -          -             -      0   \n",
       "4                     -  bad_UDP_checksum          -             F      0   \n",
       "\n",
       "     type  \n",
       "0  normal  \n",
       "1  normal  \n",
       "2  normal  \n",
       "3  normal  \n",
       "4  normal  \n",
       "\n",
       "[5 rows x 45 columns]"
      ]
     },
     "execution_count": 4,
     "metadata": {},
     "output_type": "execute_result"
    }
   ],
   "source": [
    "data.head()"
   ]
  },
  {
   "cell_type": "code",
   "execution_count": 5,
   "metadata": {
    "scrolled": true
   },
   "outputs": [
    {
     "data": {
      "text/html": [
       "<div>\n",
       "<style scoped>\n",
       "    .dataframe tbody tr th:only-of-type {\n",
       "        vertical-align: middle;\n",
       "    }\n",
       "\n",
       "    .dataframe tbody tr th {\n",
       "        vertical-align: top;\n",
       "    }\n",
       "\n",
       "    .dataframe thead th {\n",
       "        text-align: right;\n",
       "    }\n",
       "</style>\n",
       "<table border=\"1\" class=\"dataframe\">\n",
       "  <thead>\n",
       "    <tr style=\"text-align: right;\">\n",
       "      <th></th>\n",
       "      <th>src_ip</th>\n",
       "      <th>src_port</th>\n",
       "      <th>dst_ip</th>\n",
       "      <th>dst_port</th>\n",
       "      <th>proto</th>\n",
       "      <th>service</th>\n",
       "      <th>duration</th>\n",
       "      <th>src_bytes</th>\n",
       "      <th>dst_bytes</th>\n",
       "      <th>conn_state</th>\n",
       "      <th>...</th>\n",
       "      <th>http_request_body_len</th>\n",
       "      <th>http_response_body_len</th>\n",
       "      <th>http_status_code</th>\n",
       "      <th>http_user_agent</th>\n",
       "      <th>http_orig_mime_types</th>\n",
       "      <th>http_resp_mime_types</th>\n",
       "      <th>weird_name</th>\n",
       "      <th>weird_addl</th>\n",
       "      <th>weird_notice</th>\n",
       "      <th>type</th>\n",
       "    </tr>\n",
       "  </thead>\n",
       "  <tbody>\n",
       "    <tr>\n",
       "      <th>0</th>\n",
       "      <td>3.122.49.24</td>\n",
       "      <td>1883</td>\n",
       "      <td>192.168.1.152</td>\n",
       "      <td>52976</td>\n",
       "      <td>tcp</td>\n",
       "      <td>-</td>\n",
       "      <td>80549.530260</td>\n",
       "      <td>1762852</td>\n",
       "      <td>41933215</td>\n",
       "      <td>OTH</td>\n",
       "      <td>...</td>\n",
       "      <td>0</td>\n",
       "      <td>0</td>\n",
       "      <td>0</td>\n",
       "      <td>-</td>\n",
       "      <td>-</td>\n",
       "      <td>-</td>\n",
       "      <td>bad_TCP_checksum</td>\n",
       "      <td>-</td>\n",
       "      <td>F</td>\n",
       "      <td>normal</td>\n",
       "    </tr>\n",
       "    <tr>\n",
       "      <th>1</th>\n",
       "      <td>192.168.1.79</td>\n",
       "      <td>47260</td>\n",
       "      <td>192.168.1.255</td>\n",
       "      <td>15600</td>\n",
       "      <td>udp</td>\n",
       "      <td>-</td>\n",
       "      <td>0.000000</td>\n",
       "      <td>0</td>\n",
       "      <td>0</td>\n",
       "      <td>S0</td>\n",
       "      <td>...</td>\n",
       "      <td>0</td>\n",
       "      <td>0</td>\n",
       "      <td>0</td>\n",
       "      <td>-</td>\n",
       "      <td>-</td>\n",
       "      <td>-</td>\n",
       "      <td>-</td>\n",
       "      <td>-</td>\n",
       "      <td>-</td>\n",
       "      <td>normal</td>\n",
       "    </tr>\n",
       "    <tr>\n",
       "      <th>2</th>\n",
       "      <td>192.168.1.152</td>\n",
       "      <td>1880</td>\n",
       "      <td>192.168.1.152</td>\n",
       "      <td>51782</td>\n",
       "      <td>tcp</td>\n",
       "      <td>-</td>\n",
       "      <td>0.000000</td>\n",
       "      <td>0</td>\n",
       "      <td>0</td>\n",
       "      <td>OTH</td>\n",
       "      <td>...</td>\n",
       "      <td>0</td>\n",
       "      <td>0</td>\n",
       "      <td>0</td>\n",
       "      <td>-</td>\n",
       "      <td>-</td>\n",
       "      <td>-</td>\n",
       "      <td>bad_TCP_checksum</td>\n",
       "      <td>-</td>\n",
       "      <td>F</td>\n",
       "      <td>normal</td>\n",
       "    </tr>\n",
       "    <tr>\n",
       "      <th>3</th>\n",
       "      <td>192.168.1.152</td>\n",
       "      <td>34296</td>\n",
       "      <td>192.168.1.152</td>\n",
       "      <td>10502</td>\n",
       "      <td>tcp</td>\n",
       "      <td>-</td>\n",
       "      <td>0.000000</td>\n",
       "      <td>0</td>\n",
       "      <td>0</td>\n",
       "      <td>OTH</td>\n",
       "      <td>...</td>\n",
       "      <td>0</td>\n",
       "      <td>0</td>\n",
       "      <td>0</td>\n",
       "      <td>-</td>\n",
       "      <td>-</td>\n",
       "      <td>-</td>\n",
       "      <td>-</td>\n",
       "      <td>-</td>\n",
       "      <td>-</td>\n",
       "      <td>normal</td>\n",
       "    </tr>\n",
       "    <tr>\n",
       "      <th>4</th>\n",
       "      <td>192.168.1.152</td>\n",
       "      <td>46608</td>\n",
       "      <td>192.168.1.190</td>\n",
       "      <td>53</td>\n",
       "      <td>udp</td>\n",
       "      <td>dns</td>\n",
       "      <td>0.000549</td>\n",
       "      <td>0</td>\n",
       "      <td>298</td>\n",
       "      <td>SHR</td>\n",
       "      <td>...</td>\n",
       "      <td>0</td>\n",
       "      <td>0</td>\n",
       "      <td>0</td>\n",
       "      <td>-</td>\n",
       "      <td>-</td>\n",
       "      <td>-</td>\n",
       "      <td>bad_UDP_checksum</td>\n",
       "      <td>-</td>\n",
       "      <td>F</td>\n",
       "      <td>normal</td>\n",
       "    </tr>\n",
       "    <tr>\n",
       "      <th>...</th>\n",
       "      <td>...</td>\n",
       "      <td>...</td>\n",
       "      <td>...</td>\n",
       "      <td>...</td>\n",
       "      <td>...</td>\n",
       "      <td>...</td>\n",
       "      <td>...</td>\n",
       "      <td>...</td>\n",
       "      <td>...</td>\n",
       "      <td>...</td>\n",
       "      <td>...</td>\n",
       "      <td>...</td>\n",
       "      <td>...</td>\n",
       "      <td>...</td>\n",
       "      <td>...</td>\n",
       "      <td>...</td>\n",
       "      <td>...</td>\n",
       "      <td>...</td>\n",
       "      <td>...</td>\n",
       "      <td>...</td>\n",
       "      <td>...</td>\n",
       "    </tr>\n",
       "    <tr>\n",
       "      <th>461038</th>\n",
       "      <td>192.168.1.32</td>\n",
       "      <td>33108</td>\n",
       "      <td>176.28.50.165</td>\n",
       "      <td>80</td>\n",
       "      <td>tcp</td>\n",
       "      <td>-</td>\n",
       "      <td>0.000000</td>\n",
       "      <td>0</td>\n",
       "      <td>0</td>\n",
       "      <td>S0</td>\n",
       "      <td>...</td>\n",
       "      <td>0</td>\n",
       "      <td>0</td>\n",
       "      <td>0</td>\n",
       "      <td>-</td>\n",
       "      <td>-</td>\n",
       "      <td>-</td>\n",
       "      <td>-</td>\n",
       "      <td>-</td>\n",
       "      <td>-</td>\n",
       "      <td>xss</td>\n",
       "    </tr>\n",
       "    <tr>\n",
       "      <th>461039</th>\n",
       "      <td>192.168.1.33</td>\n",
       "      <td>37242</td>\n",
       "      <td>34.230.157.88</td>\n",
       "      <td>443</td>\n",
       "      <td>tcp</td>\n",
       "      <td>-</td>\n",
       "      <td>0.000000</td>\n",
       "      <td>0</td>\n",
       "      <td>0</td>\n",
       "      <td>OTH</td>\n",
       "      <td>...</td>\n",
       "      <td>0</td>\n",
       "      <td>0</td>\n",
       "      <td>0</td>\n",
       "      <td>-</td>\n",
       "      <td>-</td>\n",
       "      <td>-</td>\n",
       "      <td>-</td>\n",
       "      <td>-</td>\n",
       "      <td>-</td>\n",
       "      <td>ransomware</td>\n",
       "    </tr>\n",
       "    <tr>\n",
       "      <th>461040</th>\n",
       "      <td>192.168.1.37</td>\n",
       "      <td>4444</td>\n",
       "      <td>192.168.1.193</td>\n",
       "      <td>49178</td>\n",
       "      <td>tcp</td>\n",
       "      <td>-</td>\n",
       "      <td>290.371539</td>\n",
       "      <td>101568</td>\n",
       "      <td>2592</td>\n",
       "      <td>OTH</td>\n",
       "      <td>...</td>\n",
       "      <td>0</td>\n",
       "      <td>0</td>\n",
       "      <td>0</td>\n",
       "      <td>-</td>\n",
       "      <td>-</td>\n",
       "      <td>-</td>\n",
       "      <td>-</td>\n",
       "      <td>-</td>\n",
       "      <td>-</td>\n",
       "      <td>backdoor</td>\n",
       "    </tr>\n",
       "    <tr>\n",
       "      <th>461041</th>\n",
       "      <td>192.168.1.31</td>\n",
       "      <td>60816</td>\n",
       "      <td>104.98.29.100</td>\n",
       "      <td>443</td>\n",
       "      <td>tcp</td>\n",
       "      <td>-</td>\n",
       "      <td>23.190902</td>\n",
       "      <td>32</td>\n",
       "      <td>31</td>\n",
       "      <td>SF</td>\n",
       "      <td>...</td>\n",
       "      <td>0</td>\n",
       "      <td>0</td>\n",
       "      <td>0</td>\n",
       "      <td>-</td>\n",
       "      <td>-</td>\n",
       "      <td>-</td>\n",
       "      <td>-</td>\n",
       "      <td>-</td>\n",
       "      <td>-</td>\n",
       "      <td>mitm</td>\n",
       "    </tr>\n",
       "    <tr>\n",
       "      <th>461042</th>\n",
       "      <td>192.168.1.31</td>\n",
       "      <td>41054</td>\n",
       "      <td>151.101.24.64</td>\n",
       "      <td>443</td>\n",
       "      <td>tcp</td>\n",
       "      <td>-</td>\n",
       "      <td>22.872314</td>\n",
       "      <td>32</td>\n",
       "      <td>31</td>\n",
       "      <td>SF</td>\n",
       "      <td>...</td>\n",
       "      <td>0</td>\n",
       "      <td>0</td>\n",
       "      <td>0</td>\n",
       "      <td>-</td>\n",
       "      <td>-</td>\n",
       "      <td>-</td>\n",
       "      <td>-</td>\n",
       "      <td>-</td>\n",
       "      <td>-</td>\n",
       "      <td>mitm</td>\n",
       "    </tr>\n",
       "  </tbody>\n",
       "</table>\n",
       "<p>461043 rows × 43 columns</p>\n",
       "</div>"
      ],
      "text/plain": [
       "               src_ip  src_port         dst_ip  dst_port proto service  \\\n",
       "0         3.122.49.24      1883  192.168.1.152     52976   tcp       -   \n",
       "1        192.168.1.79     47260  192.168.1.255     15600   udp       -   \n",
       "2       192.168.1.152      1880  192.168.1.152     51782   tcp       -   \n",
       "3       192.168.1.152     34296  192.168.1.152     10502   tcp       -   \n",
       "4       192.168.1.152     46608  192.168.1.190        53   udp     dns   \n",
       "...               ...       ...            ...       ...   ...     ...   \n",
       "461038   192.168.1.32     33108  176.28.50.165        80   tcp       -   \n",
       "461039   192.168.1.33     37242  34.230.157.88       443   tcp       -   \n",
       "461040   192.168.1.37      4444  192.168.1.193     49178   tcp       -   \n",
       "461041   192.168.1.31     60816  104.98.29.100       443   tcp       -   \n",
       "461042   192.168.1.31     41054  151.101.24.64       443   tcp       -   \n",
       "\n",
       "            duration  src_bytes  dst_bytes conn_state  ...  \\\n",
       "0       80549.530260    1762852   41933215        OTH  ...   \n",
       "1           0.000000          0          0         S0  ...   \n",
       "2           0.000000          0          0        OTH  ...   \n",
       "3           0.000000          0          0        OTH  ...   \n",
       "4           0.000549          0        298        SHR  ...   \n",
       "...              ...        ...        ...        ...  ...   \n",
       "461038      0.000000          0          0         S0  ...   \n",
       "461039      0.000000          0          0        OTH  ...   \n",
       "461040    290.371539     101568       2592        OTH  ...   \n",
       "461041     23.190902         32         31         SF  ...   \n",
       "461042     22.872314         32         31         SF  ...   \n",
       "\n",
       "        http_request_body_len  http_response_body_len  http_status_code  \\\n",
       "0                           0                       0                 0   \n",
       "1                           0                       0                 0   \n",
       "2                           0                       0                 0   \n",
       "3                           0                       0                 0   \n",
       "4                           0                       0                 0   \n",
       "...                       ...                     ...               ...   \n",
       "461038                      0                       0                 0   \n",
       "461039                      0                       0                 0   \n",
       "461040                      0                       0                 0   \n",
       "461041                      0                       0                 0   \n",
       "461042                      0                       0                 0   \n",
       "\n",
       "        http_user_agent  http_orig_mime_types http_resp_mime_types  \\\n",
       "0                     -                     -                    -   \n",
       "1                     -                     -                    -   \n",
       "2                     -                     -                    -   \n",
       "3                     -                     -                    -   \n",
       "4                     -                     -                    -   \n",
       "...                 ...                   ...                  ...   \n",
       "461038                -                     -                    -   \n",
       "461039                -                     -                    -   \n",
       "461040                -                     -                    -   \n",
       "461041                -                     -                    -   \n",
       "461042                -                     -                    -   \n",
       "\n",
       "              weird_name  weird_addl  weird_notice        type  \n",
       "0       bad_TCP_checksum           -             F      normal  \n",
       "1                      -           -             -      normal  \n",
       "2       bad_TCP_checksum           -             F      normal  \n",
       "3                      -           -             -      normal  \n",
       "4       bad_UDP_checksum           -             F      normal  \n",
       "...                  ...         ...           ...         ...  \n",
       "461038                 -           -             -         xss  \n",
       "461039                 -           -             -  ransomware  \n",
       "461040                 -           -             -    backdoor  \n",
       "461041                 -           -             -        mitm  \n",
       "461042                 -           -             -        mitm  \n",
       "\n",
       "[461043 rows x 43 columns]"
      ]
     },
     "execution_count": 5,
     "metadata": {},
     "output_type": "execute_result"
    }
   ],
   "source": [
    "data.drop(columns=['label','ts'])"
   ]
  },
  {
   "cell_type": "code",
   "execution_count": 6,
   "metadata": {
    "scrolled": true
   },
   "outputs": [
    {
     "name": "stdout",
     "output_type": "stream",
     "text": [
      "<class 'pandas.core.frame.DataFrame'>\n",
      "RangeIndex: 461043 entries, 0 to 461042\n",
      "Data columns (total 45 columns):\n",
      " #   Column                  Non-Null Count   Dtype  \n",
      "---  ------                  --------------   -----  \n",
      " 0   ts                      461043 non-null  int64  \n",
      " 1   src_ip                  461043 non-null  object \n",
      " 2   src_port                461043 non-null  int64  \n",
      " 3   dst_ip                  461043 non-null  object \n",
      " 4   dst_port                461043 non-null  int64  \n",
      " 5   proto                   461043 non-null  object \n",
      " 6   service                 461043 non-null  object \n",
      " 7   duration                461043 non-null  float64\n",
      " 8   src_bytes               461043 non-null  int64  \n",
      " 9   dst_bytes               461043 non-null  int64  \n",
      " 10  conn_state              461043 non-null  object \n",
      " 11  missed_bytes            461043 non-null  int64  \n",
      " 12  src_pkts                461043 non-null  int64  \n",
      " 13  src_ip_bytes            461043 non-null  int64  \n",
      " 14  dst_pkts                461043 non-null  int64  \n",
      " 15  dst_ip_bytes            461043 non-null  int64  \n",
      " 16  dns_query               461043 non-null  object \n",
      " 17  dns_qclass              461043 non-null  int64  \n",
      " 18  dns_qtype               461043 non-null  int64  \n",
      " 19  dns_rcode               461043 non-null  int64  \n",
      " 20  dns_AA                  461043 non-null  object \n",
      " 21  dns_RD                  461043 non-null  object \n",
      " 22  dns_RA                  461043 non-null  object \n",
      " 23  dns_rejected            461043 non-null  object \n",
      " 24  ssl_version             461043 non-null  object \n",
      " 25  ssl_cipher              461043 non-null  object \n",
      " 26  ssl_resumed             461043 non-null  object \n",
      " 27  ssl_established         461043 non-null  object \n",
      " 28  ssl_subject             461043 non-null  object \n",
      " 29  ssl_issuer              461043 non-null  object \n",
      " 30  http_trans_depth        461043 non-null  object \n",
      " 31  http_method             461043 non-null  object \n",
      " 32  http_uri                461043 non-null  object \n",
      " 33  http_version            461043 non-null  object \n",
      " 34  http_request_body_len   461043 non-null  int64  \n",
      " 35  http_response_body_len  461043 non-null  int64  \n",
      " 36  http_status_code        461043 non-null  int64  \n",
      " 37  http_user_agent         461043 non-null  object \n",
      " 38  http_orig_mime_types    461043 non-null  object \n",
      " 39  http_resp_mime_types    461043 non-null  object \n",
      " 40  weird_name              461043 non-null  object \n",
      " 41  weird_addl              461043 non-null  object \n",
      " 42  weird_notice            461043 non-null  object \n",
      " 43  label                   461043 non-null  int64  \n",
      " 44  type                    461043 non-null  object \n",
      "dtypes: float64(1), int64(17), object(27)\n",
      "memory usage: 158.3+ MB\n"
     ]
    }
   ],
   "source": [
    "data.info()"
   ]
  },
  {
   "cell_type": "code",
   "execution_count": 7,
   "metadata": {
    "scrolled": false
   },
   "outputs": [
    {
     "data": {
      "text/plain": [
       "normal        300000\n",
       "backdoor       20000\n",
       "password       20000\n",
       "ransomware     20000\n",
       "injection      20000\n",
       "xss            20000\n",
       "ddos           20000\n",
       "scanning       20000\n",
       "dos            20000\n",
       "mitm            1043\n",
       "Name: type, dtype: int64"
      ]
     },
     "execution_count": 7,
     "metadata": {},
     "output_type": "execute_result"
    }
   ],
   "source": [
    "data['type'].value_counts()"
   ]
  },
  {
   "cell_type": "code",
   "execution_count": 8,
   "metadata": {},
   "outputs": [
    {
     "name": "stdout",
     "output_type": "stream",
     "text": [
      "<class 'pandas.core.frame.DataFrame'>\n",
      "RangeIndex: 461043 entries, 0 to 461042\n",
      "Data columns (total 45 columns):\n",
      " #   Column                  Non-Null Count   Dtype  \n",
      "---  ------                  --------------   -----  \n",
      " 0   ts                      461043 non-null  int64  \n",
      " 1   src_ip                  461043 non-null  int32  \n",
      " 2   src_port                461043 non-null  int64  \n",
      " 3   dst_ip                  461043 non-null  int32  \n",
      " 4   dst_port                461043 non-null  int64  \n",
      " 5   proto                   461043 non-null  int32  \n",
      " 6   service                 461043 non-null  int32  \n",
      " 7   duration                461043 non-null  float64\n",
      " 8   src_bytes               461043 non-null  int64  \n",
      " 9   dst_bytes               461043 non-null  int64  \n",
      " 10  conn_state              461043 non-null  int32  \n",
      " 11  missed_bytes            461043 non-null  int64  \n",
      " 12  src_pkts                461043 non-null  int64  \n",
      " 13  src_ip_bytes            461043 non-null  int64  \n",
      " 14  dst_pkts                461043 non-null  int64  \n",
      " 15  dst_ip_bytes            461043 non-null  int64  \n",
      " 16  dns_query               461043 non-null  int32  \n",
      " 17  dns_qclass              461043 non-null  int64  \n",
      " 18  dns_qtype               461043 non-null  int64  \n",
      " 19  dns_rcode               461043 non-null  int64  \n",
      " 20  dns_AA                  461043 non-null  object \n",
      " 21  dns_RD                  461043 non-null  object \n",
      " 22  dns_RA                  461043 non-null  object \n",
      " 23  dns_rejected            461043 non-null  int32  \n",
      " 24  ssl_version             461043 non-null  int32  \n",
      " 25  ssl_cipher              461043 non-null  object \n",
      " 26  ssl_resumed             461043 non-null  object \n",
      " 27  ssl_established         461043 non-null  object \n",
      " 28  ssl_subject             461043 non-null  object \n",
      " 29  ssl_issuer              461043 non-null  object \n",
      " 30  http_trans_depth        461043 non-null  object \n",
      " 31  http_method             461043 non-null  int32  \n",
      " 32  http_uri                461043 non-null  object \n",
      " 33  http_version            461043 non-null  object \n",
      " 34  http_request_body_len   461043 non-null  int64  \n",
      " 35  http_response_body_len  461043 non-null  int64  \n",
      " 36  http_status_code        461043 non-null  int64  \n",
      " 37  http_user_agent         461043 non-null  object \n",
      " 38  http_orig_mime_types    461043 non-null  object \n",
      " 39  http_resp_mime_types    461043 non-null  object \n",
      " 40  weird_name              461043 non-null  int32  \n",
      " 41  weird_addl              461043 non-null  int32  \n",
      " 42  weird_notice            461043 non-null  int32  \n",
      " 43  label                   461043 non-null  int64  \n",
      " 44  type                    461043 non-null  int32  \n",
      "dtypes: float64(1), int32(13), int64(17), object(14)\n",
      "memory usage: 135.4+ MB\n"
     ]
    }
   ],
   "source": [
    "label_type=LabelEncoder()\n",
    "data['type']=label_type.fit_transform(data['type'])\n",
    "label_ip=LabelEncoder()\n",
    "data['src_ip']=label_type.fit_transform(data['src_ip'])\n",
    "label_type=LabelEncoder()\n",
    "data['proto']=label_type.fit_transform(data['proto'])\n",
    "label_sip=LabelEncoder()\n",
    "data['dst_ip']=label_type.fit_transform(data['dst_ip'])\n",
    "label_ser=LabelEncoder()\n",
    "data['service']=label_type.fit_transform(data['service'])\n",
    "label_conn=LabelEncoder()\n",
    "data['conn_state']=label_type.fit_transform(data['conn_state'])\n",
    "label_dns=LabelEncoder()\n",
    "data['dns_query']=label_type.fit_transform(data['dns_query'])\n",
    "label_dnsaa=LabelEncoder()\n",
    "data['dns_rejected']=label_type.fit_transform(data['dns_rejected'])\n",
    "label_ssl=LabelEncoder()\n",
    "data['ssl_version']=label_type.fit_transform(data['ssl_version'])\n",
    "label_http=LabelEncoder()\n",
    "data['http_method']=label_type.fit_transform(data['http_method'])\n",
    "label_name=LabelEncoder()\n",
    "data['weird_name']=label_type.fit_transform(data['weird_name'])\n",
    "label_weirda=LabelEncoder()\n",
    "data['weird_addl']=label_type.fit_transform(data['weird_addl'])\n",
    "label_notice=LabelEncoder()\n",
    "data['weird_notice']=label_type.fit_transform(data['weird_notice'])\n",
    "data.info()"
   ]
  },
  {
   "cell_type": "code",
   "execution_count": 9,
   "metadata": {
    "scrolled": true
   },
   "outputs": [
    {
     "name": "stdout",
     "output_type": "stream",
     "text": [
      "<class 'pandas.core.frame.DataFrame'>\n",
      "RangeIndex: 461043 entries, 0 to 461042\n",
      "Data columns (total 29 columns):\n",
      " #   Column                  Non-Null Count   Dtype\n",
      "---  ------                  --------------   -----\n",
      " 0   src_port                461043 non-null  int32\n",
      " 1   dst_port                461043 non-null  int32\n",
      " 2   duration                461043 non-null  int32\n",
      " 3   src_bytes               461043 non-null  int32\n",
      " 4   dst_bytes               461043 non-null  int32\n",
      " 5   missed_bytes            461043 non-null  int32\n",
      " 6   src_pkts                461043 non-null  int32\n",
      " 7   src_ip_bytes            461043 non-null  int32\n",
      " 8   dst_pkts                461043 non-null  int32\n",
      " 9   dst_ip_bytes            461043 non-null  int32\n",
      " 10  dns_qclass              461043 non-null  int32\n",
      " 11  dns_qtype               461043 non-null  int32\n",
      " 12  dns_rcode               461043 non-null  int32\n",
      " 13  http_request_body_len   461043 non-null  int32\n",
      " 14  http_response_body_len  461043 non-null  int32\n",
      " 15  http_status_code        461043 non-null  int32\n",
      " 16  weird_notice            461043 non-null  int32\n",
      " 17  weird_addl              461043 non-null  int32\n",
      " 18  weird_name              461043 non-null  int32\n",
      " 19  http_method             461043 non-null  int32\n",
      " 20  ssl_version             461043 non-null  int32\n",
      " 21  dns_rejected            461043 non-null  int32\n",
      " 22  dns_query               461043 non-null  int32\n",
      " 23  conn_state              461043 non-null  int32\n",
      " 24  service                 461043 non-null  int32\n",
      " 25  dst_ip                  461043 non-null  int32\n",
      " 26  proto                   461043 non-null  int32\n",
      " 27  src_ip                  461043 non-null  int32\n",
      " 28  type                    461043 non-null  int32\n",
      "dtypes: int32(29)\n",
      "memory usage: 51.0 MB\n"
     ]
    }
   ],
   "source": [
    "num_features = ['src_port',  'dst_port', 'duration', \n",
    "                'src_bytes', 'dst_bytes', 'missed_bytes',\n",
    "                'src_pkts', 'src_ip_bytes', 'dst_pkts', 'dst_ip_bytes', \n",
    "                'dns_qclass', 'dns_qtype', 'dns_rcode', 'http_request_body_len', \n",
    "                'http_response_body_len', 'http_status_code', 'weird_notice',\n",
    "                'weird_addl', 'weird_name','http_method','ssl_version',\n",
    "                'dns_rejected','dns_query','conn_state','service','dst_ip','proto','src_ip','type']\n",
    "features = data[num_features].astype(int)\n",
    "features.info()"
   ]
  },
  {
   "cell_type": "code",
   "execution_count": 10,
   "metadata": {},
   "outputs": [
    {
     "data": {
      "text/plain": [
       "5    294029\n",
       "1     19634\n",
       "6     19601\n",
       "9     19599\n",
       "3     19591\n",
       "0     19589\n",
       "8     19587\n",
       "2     19587\n",
       "7     19584\n",
       "4      1021\n",
       "Name: type, dtype: int64"
      ]
     },
     "execution_count": 10,
     "metadata": {},
     "output_type": "execute_result"
    }
   ],
   "source": [
    "train_set, test_set = train_test_split(features, test_size=0.02, random_state=42)\n",
    "train_set['type'].value_counts()"
   ]
  },
  {
   "cell_type": "code",
   "execution_count": 11,
   "metadata": {},
   "outputs": [
    {
     "data": {
      "text/plain": [
       "5    5971\n",
       "7     416\n",
       "2     413\n",
       "8     413\n",
       "0     411\n",
       "3     409\n",
       "9     401\n",
       "6     399\n",
       "1     366\n",
       "4      22\n",
       "Name: type, dtype: int64"
      ]
     },
     "execution_count": 11,
     "metadata": {},
     "output_type": "execute_result"
    }
   ],
   "source": [
    "test_set['type'].value_counts()"
   ]
  },
  {
   "cell_type": "code",
   "execution_count": 12,
   "metadata": {},
   "outputs": [
    {
     "data": {
      "text/plain": [
       "5    294000\n",
       "9     19600\n",
       "8     19600\n",
       "7     19600\n",
       "6     19600\n",
       "3     19600\n",
       "2     19600\n",
       "1     19600\n",
       "0     19600\n",
       "4      1022\n",
       "Name: type, dtype: int64"
      ]
     },
     "execution_count": 12,
     "metadata": {},
     "output_type": "execute_result"
    }
   ],
   "source": [
    "split = StratifiedShuffleSplit(n_splits=1, test_size=0.02, random_state=42)\n",
    "for train_index, test_index in split.split(features, features['type']):\n",
    "    strat_train = features.loc[train_index]\n",
    "    strat_test = features.loc[test_index]\n",
    "strat_train['type'].value_counts()"
   ]
  },
  {
   "cell_type": "code",
   "execution_count": 13,
   "metadata": {},
   "outputs": [
    {
     "data": {
      "text/plain": [
       "5    6000\n",
       "7     400\n",
       "6     400\n",
       "3     400\n",
       "2     400\n",
       "9     400\n",
       "1     400\n",
       "8     400\n",
       "0     400\n",
       "4      21\n",
       "Name: type, dtype: int64"
      ]
     },
     "execution_count": 13,
     "metadata": {},
     "output_type": "execute_result"
    }
   ],
   "source": [
    "strat_test['type'].value_counts()"
   ]
  },
  {
   "cell_type": "code",
   "execution_count": 14,
   "metadata": {
    "scrolled": false
   },
   "outputs": [
    {
     "data": {
      "text/plain": [
       "type                      1.000000\n",
       "conn_state                0.121725\n",
       "src_port                  0.102004\n",
       "dst_port                  0.082516\n",
       "dst_ip                    0.053389\n",
       "proto                     0.021100\n",
       "dns_qtype                 0.018233\n",
       "service                   0.011213\n",
       "dns_qclass                0.006060\n",
       "weird_notice              0.004659\n",
       "weird_addl                0.003726\n",
       "weird_name                0.002954\n",
       "ssl_version               0.002196\n",
       "http_method               0.001657\n",
       "http_status_code          0.001337\n",
       "http_request_body_len     0.000430\n",
       "http_response_body_len    0.000292\n",
       "src_ip_bytes              0.000192\n",
       "src_ip                   -0.000167\n",
       "dst_pkts                 -0.000272\n",
       "src_pkts                 -0.001104\n",
       "dst_ip_bytes             -0.002710\n",
       "dns_query                -0.006161\n",
       "duration                 -0.007899\n",
       "missed_bytes             -0.008428\n",
       "src_bytes                -0.018970\n",
       "dst_bytes                -0.020448\n",
       "dns_rejected             -0.051648\n",
       "dns_rcode                -0.109865\n",
       "Name: type, dtype: float64"
      ]
     },
     "execution_count": 14,
     "metadata": {},
     "output_type": "execute_result"
    }
   ],
   "source": [
    "data=strat_train.copy()\n",
    "corr_matrix = data.corr()\n",
    "corr_matrix['type'].sort_values(ascending=False)"
   ]
  },
  {
   "cell_type": "code",
   "execution_count": 15,
   "metadata": {},
   "outputs": [],
   "source": [
    "##scatter_matrix(data['type','conn_state','src_port','dns_rcode'], figsize=(12, 8))"
   ]
  },
  {
   "cell_type": "code",
   "execution_count": 16,
   "metadata": {},
   "outputs": [
    {
     "data": {
      "text/plain": [
       "(451822, 29)"
      ]
     },
     "execution_count": 16,
     "metadata": {},
     "output_type": "execute_result"
    }
   ],
   "source": [
    "##pipeline creation\n",
    "\n",
    "from sklearn.pipeline import Pipeline\n",
    "from sklearn.impute import SimpleImputer\n",
    "from sklearn.preprocessing import StandardScaler\n",
    "my_pipe = Pipeline([\n",
    "    ('imputer', SimpleImputer(strategy=\"median\")),\n",
    "    ('std_scaler', StandardScaler()),\n",
    "])\n",
    "\n",
    "##Numpy array output \n",
    "data_num = my_pipe.fit_transform(data)\n",
    "data_num.shape"
   ]
  },
  {
   "cell_type": "code",
   "execution_count": 17,
   "metadata": {},
   "outputs": [
    {
     "name": "stdout",
     "output_type": "stream",
     "text": [
      "Accuracy: 0.565520 (0.081)\n"
     ]
    }
   ],
   "source": [
    "##applying the model\n",
    "from sklearn.ensemble import AdaBoostClassifier\n",
    "from sklearn import metrics\n",
    "from sklearn.model_selection import cross_val_score\n",
    "from sklearn.model_selection import KFold\n",
    "from sklearn.model_selection import RandomizedSearchCV\n",
    "\n",
    "##prepare for training\n",
    "x = data.drop('type', axis = 1)\n",
    "y = data['type'].copy()\n",
    "\n",
    "X =my_pipe.fit_transform(x)\n",
    "\n",
    "##classifier onj\n",
    "##n_estimators is number of weak learners to train iteratively\n",
    "##learning_rate is weight of weak learners\n",
    "abcData = AdaBoostClassifier(n_estimators=50, random_state=1)\n",
    "cv = KFold(n_splits=10, shuffle=True, random_state=1)\n",
    "n_scores=cross_val_score(abcData, X, y, scoring='accuracy', cv=cv, n_jobs=1, error_score='raise')\n",
    "print('Accuracy: %3f (%.3f)' % (np.mean(n_scores), np.std(n_scores)))"
   ]
  },
  {
   "cell_type": "code",
   "execution_count": 18,
   "metadata": {},
   "outputs": [
    {
     "data": {
      "text/plain": [
       "'parameters = {\"learning_rate\": [0.1, 0.01, 0.001],\\n               \"n_estimators\": [100, 250, 500, 1000]}\\nsearch=RandomizedSearchCV(abcData, param_distributions = parameters, scoring = \\'accuracy\\',\\n                             cv = 10, verbose = 3, random_state = 40 )'"
      ]
     },
     "execution_count": 18,
     "metadata": {},
     "output_type": "execute_result"
    }
   ],
   "source": [
    "##Trying to improve accuracy with turning\n",
    "\"\"\"parameters = {\"learning_rate\": [0.1, 0.01, 0.001],\n",
    "               \"n_estimators\": [100, 250, 500, 1000]}\n",
    "search=RandomizedSearchCV(abcData, param_distributions = parameters, scoring = 'accuracy',\n",
    "                             cv = 10, verbose = 3, random_state = 40 )\"\"\""
   ]
  },
  {
   "cell_type": "code",
   "execution_count": 19,
   "metadata": {
    "scrolled": false
   },
   "outputs": [
    {
     "data": {
      "text/plain": [
       "'model_adaboost = search.fit(X, y)'"
      ]
     },
     "execution_count": 19,
     "metadata": {},
     "output_type": "execute_result"
    }
   ],
   "source": [
    "\"\"\"model_adaboost = search.fit(X, y)\"\"\""
   ]
  },
  {
   "cell_type": "code",
   "execution_count": 20,
   "metadata": {},
   "outputs": [
    {
     "data": {
      "text/plain": [
       "AdaBoostClassifier(algorithm='SAMME.R', base_estimator=None, learning_rate=1.0,\n",
       "                   n_estimators=50, random_state=1)"
      ]
     },
     "execution_count": 20,
     "metadata": {},
     "output_type": "execute_result"
    }
   ],
   "source": [
    "\"\"\"abc_final = AdaBoostClassifier(random_state=0, n_estimators=model_adaboost.best_params_['n_estimators'],learning_rate=model_adaboost.best_params_['learning_rate'])\n",
    "abc_final.fit(X, y)\"\"\"\n",
    "abcData.fit(X,y)"
   ]
  },
  {
   "cell_type": "code",
   "execution_count": 24,
   "metadata": {},
   "outputs": [],
   "source": [
    "x_test = strat_test.drop('type', axis=1)\n",
    "X_test = my_pipe.fit_transform(x_test)\n",
    "y_test = strat_test['type'].copy()\n",
    "y_pred = abcData.predict(X_test)"
   ]
  },
  {
   "cell_type": "code",
   "execution_count": 25,
   "metadata": {
    "scrolled": true
   },
   "outputs": [
    {
     "name": "stdout",
     "output_type": "stream",
     "text": [
      "              precision    recall  f1-score   support\n",
      "\n",
      "           0       0.00      0.00      0.00       400\n",
      "           1       0.00      0.00      0.00       400\n",
      "           2       0.00      0.00      0.00       400\n",
      "           3       0.00      0.00      0.00       400\n",
      "           4       0.00      0.00      0.00        21\n",
      "           5       0.64      0.96      0.77      6000\n",
      "           6       0.00      0.00      0.00       400\n",
      "           7       0.00      0.00      0.00       400\n",
      "           8       0.00      0.00      0.00       400\n",
      "           9       0.00      0.00      0.00       400\n",
      "\n",
      "    accuracy                           0.62      9221\n",
      "   macro avg       0.06      0.10      0.08      9221\n",
      "weighted avg       0.42      0.62      0.50      9221\n",
      "\n"
     ]
    },
    {
     "name": "stderr",
     "output_type": "stream",
     "text": [
      "C:\\Users\\aradh\\anaconda3\\lib\\site-packages\\sklearn\\metrics\\_classification.py:1272: UndefinedMetricWarning: Precision and F-score are ill-defined and being set to 0.0 in labels with no predicted samples. Use `zero_division` parameter to control this behavior.\n",
      "  _warn_prf(average, modifier, msg_start, len(result))\n"
     ]
    }
   ],
   "source": [
    "print(metrics.classification_report(y_test, y_pred))"
   ]
  },
  {
   "cell_type": "code",
   "execution_count": 26,
   "metadata": {},
   "outputs": [
    {
     "name": "stdout",
     "output_type": "stream",
     "text": [
      "Precision:  [0.         0.         0.         0.         0.         0.64083408\n",
      " 0.         0.         0.         0.        ]\n",
      "Recall:  [0.         0.         0.         0.         0.         0.95783333\n",
      " 0.         0.         0.         0.        ]\n"
     ]
    },
    {
     "name": "stderr",
     "output_type": "stream",
     "text": [
      "C:\\Users\\aradh\\anaconda3\\lib\\site-packages\\sklearn\\metrics\\_classification.py:1272: UndefinedMetricWarning: Precision is ill-defined and being set to 0.0 in labels with no predicted samples. Use `zero_division` parameter to control this behavior.\n",
      "  _warn_prf(average, modifier, msg_start, len(result))\n"
     ]
    }
   ],
   "source": [
    "print(\"Precision: \", metrics.precision_score(y_test, y_pred, average=None))\n",
    "print(\"Recall: \", metrics.recall_score(y_test, y_pred, average=None))"
   ]
  },
  {
   "cell_type": "code",
   "execution_count": 27,
   "metadata": {
    "scrolled": true
   },
   "outputs": [],
   "source": [
    "##confusion matrix\n",
    "cm = metrics.confusion_matrix(y_test, y_pred)"
   ]
  },
  {
   "cell_type": "code",
   "execution_count": 28,
   "metadata": {
    "scrolled": true
   },
   "outputs": [
    {
     "data": {
      "text/plain": [
       "<matplotlib.axes._subplots.AxesSubplot at 0x27a016ac508>"
      ]
     },
     "execution_count": 28,
     "metadata": {},
     "output_type": "execute_result"
    },
    {
     "data": {
      "image/png": "[encoded data removed]",
      "text/plain": [
       "<Figure size 432x288 with 2 Axes>"
      ]
     },
     "metadata": {
      "needs_background": "light"
     },
     "output_type": "display_data"
    }
   ],
   "source": [
    "sns.heatmap(cm, annot=True)"
   ]
  }
 ],
 "metadata": {
  "kernelspec": {
   "display_name": "Python 3",
   "language": "python",
   "name": "python3"
  },
  "language_info": {
   "codemirror_mode": {
    "name": "ipython",
    "version": 3
   },
   "file_extension": ".py",
   "mimetype": "text/x-python",
   "name": "python",
   "nbconvert_exporter": "python",
   "pygments_lexer": "ipython3",
   "version": "3.7.6"
  }
 },
 "nbformat": 4,
 "nbformat_minor": 4
}
