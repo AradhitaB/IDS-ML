{
 "cells": [
  {
   "cell_type": "markdown",
   "metadata": {},
   "source": [
    "# Nasscom project 18BIT0313\n"
   ]
  },
  {
   "cell_type": "code",
   "execution_count": 37,
   "metadata": {},
   "outputs": [],
   "source": [
    "%matplotlib inline"
   ]
  },
  {
   "cell_type": "code",
   "execution_count": 2,
   "metadata": {},
   "outputs": [],
   "source": [
    "# import all necessary libraries\n",
    "import pandas as pd\n",
    "import numpy as np\n",
    "import matplotlib as mp\n",
    "from sklearn.model_selection import train_test_split\n",
    "from sklearn.model_selection import StratifiedShuffleSplit\n",
    "from sklearn.preprocessing import LabelEncoder\n",
    "from pandas.plotting import scatter_matrix\n"
   ]
  },
  {
   "cell_type": "code",
   "execution_count": 3,
   "metadata": {},
   "outputs": [],
   "source": [
    "weather = pd.read_csv(\"Train_Test_IOT_Weather.csv\")"
   ]
  },
  {
   "cell_type": "code",
   "execution_count": 4,
   "metadata": {
    "scrolled": true
   },
   "outputs": [
    {
     "data": {
      "text/html": [
       "<div>\n",
       "<style scoped>\n",
       "    .dataframe tbody tr th:only-of-type {\n",
       "        vertical-align: middle;\n",
       "    }\n",
       "\n",
       "    .dataframe tbody tr th {\n",
       "        vertical-align: top;\n",
       "    }\n",
       "\n",
       "    .dataframe thead th {\n",
       "        text-align: right;\n",
       "    }\n",
       "</style>\n",
       "<table border=\"1\" class=\"dataframe\">\n",
       "  <thead>\n",
       "    <tr style=\"text-align: right;\">\n",
       "      <th></th>\n",
       "      <th>ts</th>\n",
       "      <th>date</th>\n",
       "      <th>time</th>\n",
       "      <th>temperature</th>\n",
       "      <th>pressure</th>\n",
       "      <th>humidity</th>\n",
       "      <th>label</th>\n",
       "      <th>type</th>\n",
       "    </tr>\n",
       "  </thead>\n",
       "  <tbody>\n",
       "    <tr>\n",
       "      <th>0</th>\n",
       "      <td>1556238796</td>\n",
       "      <td>25-Apr-19</td>\n",
       "      <td>17:33:16</td>\n",
       "      <td>40.881866</td>\n",
       "      <td>-0.101806</td>\n",
       "      <td>38.363631</td>\n",
       "      <td>1</td>\n",
       "      <td>ddos</td>\n",
       "    </tr>\n",
       "    <tr>\n",
       "      <th>1</th>\n",
       "      <td>1556238796</td>\n",
       "      <td>25-Apr-19</td>\n",
       "      <td>17:33:16</td>\n",
       "      <td>44.913806</td>\n",
       "      <td>2.661616</td>\n",
       "      <td>46.141423</td>\n",
       "      <td>1</td>\n",
       "      <td>ddos</td>\n",
       "    </tr>\n",
       "    <tr>\n",
       "      <th>2</th>\n",
       "      <td>1556238796</td>\n",
       "      <td>25-Apr-19</td>\n",
       "      <td>17:33:16</td>\n",
       "      <td>38.295822</td>\n",
       "      <td>-2.438871</td>\n",
       "      <td>50.850643</td>\n",
       "      <td>1</td>\n",
       "      <td>ddos</td>\n",
       "    </tr>\n",
       "    <tr>\n",
       "      <th>3</th>\n",
       "      <td>1556238801</td>\n",
       "      <td>25-Apr-19</td>\n",
       "      <td>17:33:21</td>\n",
       "      <td>41.306586</td>\n",
       "      <td>-0.101806</td>\n",
       "      <td>38.363631</td>\n",
       "      <td>1</td>\n",
       "      <td>ddos</td>\n",
       "    </tr>\n",
       "    <tr>\n",
       "      <th>4</th>\n",
       "      <td>1556238801</td>\n",
       "      <td>25-Apr-19</td>\n",
       "      <td>17:33:21</td>\n",
       "      <td>44.903178</td>\n",
       "      <td>3.080849</td>\n",
       "      <td>46.141423</td>\n",
       "      <td>1</td>\n",
       "      <td>ddos</td>\n",
       "    </tr>\n",
       "  </tbody>\n",
       "</table>\n",
       "</div>"
      ],
      "text/plain": [
       "           ts       date      time  temperature  pressure   humidity  label  \\\n",
       "0  1556238796  25-Apr-19  17:33:16    40.881866 -0.101806  38.363631      1   \n",
       "1  1556238796  25-Apr-19  17:33:16    44.913806  2.661616  46.141423      1   \n",
       "2  1556238796  25-Apr-19  17:33:16    38.295822 -2.438871  50.850643      1   \n",
       "3  1556238801  25-Apr-19  17:33:21    41.306586 -0.101806  38.363631      1   \n",
       "4  1556238801  25-Apr-19  17:33:21    44.903178  3.080849  46.141423      1   \n",
       "\n",
       "   type  \n",
       "0  ddos  \n",
       "1  ddos  \n",
       "2  ddos  \n",
       "3  ddos  \n",
       "4  ddos  "
      ]
     },
     "execution_count": 4,
     "metadata": {},
     "output_type": "execute_result"
    }
   ],
   "source": [
    "weather.head()"
   ]
  },
  {
   "cell_type": "code",
   "execution_count": 5,
   "metadata": {},
   "outputs": [],
   "source": [
    "weather.drop(columns=['date','time','ts','label'],inplace=True)"
   ]
  },
  {
   "cell_type": "code",
   "execution_count": 6,
   "metadata": {},
   "outputs": [
    {
     "name": "stdout",
     "output_type": "stream",
     "text": [
      "<class 'pandas.core.frame.DataFrame'>\n",
      "RangeIndex: 59260 entries, 0 to 59259\n",
      "Data columns (total 4 columns):\n",
      " #   Column       Non-Null Count  Dtype  \n",
      "---  ------       --------------  -----  \n",
      " 0   temperature  59260 non-null  float64\n",
      " 1   pressure     59260 non-null  float64\n",
      " 2   humidity     59260 non-null  float64\n",
      " 3   type         59260 non-null  object \n",
      "dtypes: float64(3), object(1)\n",
      "memory usage: 1.8+ MB\n"
     ]
    }
   ],
   "source": [
    "weather.info()"
   ]
  },
  {
   "cell_type": "code",
   "execution_count": 7,
   "metadata": {
    "scrolled": true
   },
   "outputs": [
    {
     "data": {
      "text/plain": [
       "normal        35000\n",
       "password       5000\n",
       "backdoor       5000\n",
       "injection      5000\n",
       "ddos           5000\n",
       "ransomware     2865\n",
       "xss             866\n",
       "scanning        529\n",
       "Name: type, dtype: int64"
      ]
     },
     "execution_count": 7,
     "metadata": {},
     "output_type": "execute_result"
    }
   ],
   "source": [
    "weather['type'].value_counts()"
   ]
  },
  {
   "cell_type": "code",
   "execution_count": 8,
   "metadata": {
    "scrolled": false
   },
   "outputs": [
    {
     "data": {
      "text/html": [
       "<div>\n",
       "<style scoped>\n",
       "    .dataframe tbody tr th:only-of-type {\n",
       "        vertical-align: middle;\n",
       "    }\n",
       "\n",
       "    .dataframe tbody tr th {\n",
       "        vertical-align: top;\n",
       "    }\n",
       "\n",
       "    .dataframe thead th {\n",
       "        text-align: right;\n",
       "    }\n",
       "</style>\n",
       "<table border=\"1\" class=\"dataframe\">\n",
       "  <thead>\n",
       "    <tr style=\"text-align: right;\">\n",
       "      <th></th>\n",
       "      <th>temperature</th>\n",
       "      <th>pressure</th>\n",
       "      <th>humidity</th>\n",
       "    </tr>\n",
       "  </thead>\n",
       "  <tbody>\n",
       "    <tr>\n",
       "      <th>count</th>\n",
       "      <td>59260.000000</td>\n",
       "      <td>59260.000000</td>\n",
       "      <td>59260.000000</td>\n",
       "    </tr>\n",
       "    <tr>\n",
       "      <th>mean</th>\n",
       "      <td>35.378616</td>\n",
       "      <td>0.892187</td>\n",
       "      <td>48.729767</td>\n",
       "    </tr>\n",
       "    <tr>\n",
       "      <th>std</th>\n",
       "      <td>8.332903</td>\n",
       "      <td>2.787494</td>\n",
       "      <td>28.550055</td>\n",
       "    </tr>\n",
       "    <tr>\n",
       "      <th>min</th>\n",
       "      <td>20.527012</td>\n",
       "      <td>-12.065426</td>\n",
       "      <td>0.278928</td>\n",
       "    </tr>\n",
       "    <tr>\n",
       "      <th>25%</th>\n",
       "      <td>28.209857</td>\n",
       "      <td>0.188713</td>\n",
       "      <td>23.488462</td>\n",
       "    </tr>\n",
       "    <tr>\n",
       "      <th>50%</th>\n",
       "      <td>35.773605</td>\n",
       "      <td>1.035000</td>\n",
       "      <td>46.343618</td>\n",
       "    </tr>\n",
       "    <tr>\n",
       "      <th>75%</th>\n",
       "      <td>42.243863</td>\n",
       "      <td>1.787000</td>\n",
       "      <td>74.532262</td>\n",
       "    </tr>\n",
       "    <tr>\n",
       "      <th>max</th>\n",
       "      <td>50.000000</td>\n",
       "      <td>12.487613</td>\n",
       "      <td>99.875982</td>\n",
       "    </tr>\n",
       "  </tbody>\n",
       "</table>\n",
       "</div>"
      ],
      "text/plain": [
       "        temperature      pressure      humidity\n",
       "count  59260.000000  59260.000000  59260.000000\n",
       "mean      35.378616      0.892187     48.729767\n",
       "std        8.332903      2.787494     28.550055\n",
       "min       20.527012    -12.065426      0.278928\n",
       "25%       28.209857      0.188713     23.488462\n",
       "50%       35.773605      1.035000     46.343618\n",
       "75%       42.243863      1.787000     74.532262\n",
       "max       50.000000     12.487613     99.875982"
      ]
     },
     "execution_count": 8,
     "metadata": {},
     "output_type": "execute_result"
    }
   ],
   "source": [
    "weather.describe()"
   ]
  },
  {
   "cell_type": "code",
   "execution_count": 38,
   "metadata": {},
   "outputs": [
    {
     "data": {
      "text/html": [
       "<div>\n",
       "<style scoped>\n",
       "    .dataframe tbody tr th:only-of-type {\n",
       "        vertical-align: middle;\n",
       "    }\n",
       "\n",
       "    .dataframe tbody tr th {\n",
       "        vertical-align: top;\n",
       "    }\n",
       "\n",
       "    .dataframe thead th {\n",
       "        text-align: right;\n",
       "    }\n",
       "</style>\n",
       "<table border=\"1\" class=\"dataframe\">\n",
       "  <thead>\n",
       "    <tr style=\"text-align: right;\">\n",
       "      <th></th>\n",
       "      <th>temperature</th>\n",
       "      <th>pressure</th>\n",
       "      <th>humidity</th>\n",
       "      <th>type</th>\n",
       "    </tr>\n",
       "  </thead>\n",
       "  <tbody>\n",
       "    <tr>\n",
       "      <th>5865</th>\n",
       "      <td>30.168667</td>\n",
       "      <td>8.891470</td>\n",
       "      <td>95.681530</td>\n",
       "      <td>1</td>\n",
       "    </tr>\n",
       "    <tr>\n",
       "      <th>55274</th>\n",
       "      <td>40.525911</td>\n",
       "      <td>-1.272387</td>\n",
       "      <td>40.383435</td>\n",
       "      <td>3</td>\n",
       "    </tr>\n",
       "    <tr>\n",
       "      <th>16940</th>\n",
       "      <td>33.837622</td>\n",
       "      <td>5.910876</td>\n",
       "      <td>22.791873</td>\n",
       "      <td>2</td>\n",
       "    </tr>\n",
       "    <tr>\n",
       "      <th>50116</th>\n",
       "      <td>22.185027</td>\n",
       "      <td>0.640275</td>\n",
       "      <td>20.763539</td>\n",
       "      <td>3</td>\n",
       "    </tr>\n",
       "    <tr>\n",
       "      <th>8638</th>\n",
       "      <td>34.749586</td>\n",
       "      <td>1.862918</td>\n",
       "      <td>48.347544</td>\n",
       "      <td>3</td>\n",
       "    </tr>\n",
       "    <tr>\n",
       "      <th>...</th>\n",
       "      <td>...</td>\n",
       "      <td>...</td>\n",
       "      <td>...</td>\n",
       "      <td>...</td>\n",
       "    </tr>\n",
       "    <tr>\n",
       "      <th>52321</th>\n",
       "      <td>26.840390</td>\n",
       "      <td>-0.295382</td>\n",
       "      <td>32.602676</td>\n",
       "      <td>3</td>\n",
       "    </tr>\n",
       "    <tr>\n",
       "      <th>43692</th>\n",
       "      <td>27.004156</td>\n",
       "      <td>1.256507</td>\n",
       "      <td>21.273527</td>\n",
       "      <td>3</td>\n",
       "    </tr>\n",
       "    <tr>\n",
       "      <th>21327</th>\n",
       "      <td>21.582290</td>\n",
       "      <td>3.976910</td>\n",
       "      <td>56.834003</td>\n",
       "      <td>4</td>\n",
       "    </tr>\n",
       "    <tr>\n",
       "      <th>31125</th>\n",
       "      <td>24.983843</td>\n",
       "      <td>1.051005</td>\n",
       "      <td>25.140289</td>\n",
       "      <td>3</td>\n",
       "    </tr>\n",
       "    <tr>\n",
       "      <th>49637</th>\n",
       "      <td>43.144664</td>\n",
       "      <td>1.313984</td>\n",
       "      <td>26.635442</td>\n",
       "      <td>3</td>\n",
       "    </tr>\n",
       "  </tbody>\n",
       "</table>\n",
       "<p>47408 rows × 4 columns</p>\n",
       "</div>"
      ],
      "text/plain": [
       "       temperature  pressure   humidity  type\n",
       "5865     30.168667  8.891470  95.681530     1\n",
       "55274    40.525911 -1.272387  40.383435     3\n",
       "16940    33.837622  5.910876  22.791873     2\n",
       "50116    22.185027  0.640275  20.763539     3\n",
       "8638     34.749586  1.862918  48.347544     3\n",
       "...            ...       ...        ...   ...\n",
       "52321    26.840390 -0.295382  32.602676     3\n",
       "43692    27.004156  1.256507  21.273527     3\n",
       "21327    21.582290  3.976910  56.834003     4\n",
       "31125    24.983843  1.051005  25.140289     3\n",
       "49637    43.144664  1.313984  26.635442     3\n",
       "\n",
       "[47408 rows x 4 columns]"
      ]
     },
     "execution_count": 38,
     "metadata": {},
     "output_type": "execute_result"
    }
   ],
   "source": [
    "weather"
   ]
  },
  {
   "cell_type": "code",
   "execution_count": 9,
   "metadata": {},
   "outputs": [],
   "source": [
    "label_type=LabelEncoder()\n",
    "weather['type']=label_type.fit_transform(weather['type'])"
   ]
  },
  {
   "cell_type": "code",
   "execution_count": 10,
   "metadata": {},
   "outputs": [
    {
     "data": {
      "text/plain": [
       "3    35000\n",
       "4     5000\n",
       "2     5000\n",
       "1     5000\n",
       "0     5000\n",
       "5     2865\n",
       "7      866\n",
       "6      529\n",
       "Name: type, dtype: int64"
      ]
     },
     "execution_count": 10,
     "metadata": {},
     "output_type": "execute_result"
    }
   ],
   "source": [
    "weather['type'].value_counts()"
   ]
  },
  {
   "cell_type": "code",
   "execution_count": 11,
   "metadata": {
    "scrolled": true
   },
   "outputs": [
    {
     "name": "stdout",
     "output_type": "stream",
     "text": [
      "train: 47408\n",
      "test: 11852\n"
     ]
    }
   ],
   "source": [
    "## Splitting the data\n",
    "train_set, test_set = train_test_split(weather, test_size=0.2, random_state=42)\n",
    "print(f\"train: {len(train_set)}\\ntest: {len(test_set)}\")\n",
    "## This will not give even distribution of types which may cause issues if one type is not available"
   ]
  },
  {
   "cell_type": "code",
   "execution_count": 12,
   "metadata": {
    "scrolled": false
   },
   "outputs": [
    {
     "data": {
      "text/plain": [
       "3    27949\n",
       "2     4025\n",
       "4     4021\n",
       "1     4016\n",
       "0     3997\n",
       "5     2297\n",
       "7      687\n",
       "6      416\n",
       "Name: type, dtype: int64"
      ]
     },
     "execution_count": 12,
     "metadata": {},
     "output_type": "execute_result"
    }
   ],
   "source": [
    "train_set['type'].value_counts()"
   ]
  },
  {
   "cell_type": "code",
   "execution_count": 13,
   "metadata": {},
   "outputs": [
    {
     "data": {
      "text/plain": [
       "3    7051\n",
       "0    1003\n",
       "1     984\n",
       "4     979\n",
       "2     975\n",
       "5     568\n",
       "7     179\n",
       "6     113\n",
       "Name: type, dtype: int64"
      ]
     },
     "execution_count": 13,
     "metadata": {},
     "output_type": "execute_result"
    }
   ],
   "source": [
    "test_set['type'].value_counts()"
   ]
  },
  {
   "cell_type": "code",
   "execution_count": 14,
   "metadata": {},
   "outputs": [],
   "source": [
    "## All types are available but we will perform StratifiedShuffleSplit to improve probability of correct detection\n",
    "split = StratifiedShuffleSplit(n_splits=1, test_size=0.2, random_state=42)\n",
    "for train_index, test_index in split.split(weather, weather['type']):\n",
    "    strat_train = weather.loc[train_index]\n",
    "    strat_test = weather.loc[test_index]"
   ]
  },
  {
   "cell_type": "code",
   "execution_count": 15,
   "metadata": {
    "scrolled": true
   },
   "outputs": [
    {
     "data": {
      "text/plain": [
       "3    28000\n",
       "4     4000\n",
       "2     4000\n",
       "1     4000\n",
       "0     4000\n",
       "5     2292\n",
       "7      693\n",
       "6      423\n",
       "Name: type, dtype: int64"
      ]
     },
     "execution_count": 15,
     "metadata": {},
     "output_type": "execute_result"
    }
   ],
   "source": [
    "strat_train['type'].value_counts()"
   ]
  },
  {
   "cell_type": "code",
   "execution_count": 16,
   "metadata": {
    "scrolled": false
   },
   "outputs": [
    {
     "data": {
      "text/plain": [
       "3    7000\n",
       "4    1000\n",
       "2    1000\n",
       "1    1000\n",
       "0    1000\n",
       "5     573\n",
       "7     173\n",
       "6     106\n",
       "Name: type, dtype: int64"
      ]
     },
     "execution_count": 16,
     "metadata": {},
     "output_type": "execute_result"
    }
   ],
   "source": [
    "strat_test['type'].value_counts()"
   ]
  },
  {
   "cell_type": "code",
   "execution_count": 17,
   "metadata": {},
   "outputs": [],
   "source": [
    "## Use training data to train\n",
    "weather = strat_train.copy()"
   ]
  },
  {
   "cell_type": "code",
   "execution_count": 18,
   "metadata": {},
   "outputs": [],
   "source": [
    "corr_matrix = weather.corr()"
   ]
  },
  {
   "cell_type": "code",
   "execution_count": 19,
   "metadata": {},
   "outputs": [
    {
     "data": {
      "text/plain": [
       "type           1.000000\n",
       "pressure       0.138103\n",
       "temperature   -0.133273\n",
       "humidity      -0.187966\n",
       "Name: type, dtype: float64"
      ]
     },
     "execution_count": 19,
     "metadata": {},
     "output_type": "execute_result"
    }
   ],
   "source": [
    "corr_matrix['type'].sort_values(ascending=False)\n",
    "##Low correlations"
   ]
  },
  {
   "cell_type": "code",
   "execution_count": 20,
   "metadata": {
    "scrolled": false
   },
   "outputs": [
    {
     "data": {
      "text/plain": [
       "array([[<matplotlib.axes._subplots.AxesSubplot object at 0x000001EDEFB24D08>,\n",
       "        <matplotlib.axes._subplots.AxesSubplot object at 0x000001EDEFBCA908>,\n",
       "        <matplotlib.axes._subplots.AxesSubplot object at 0x000001EDEFC05808>,\n",
       "        <matplotlib.axes._subplots.AxesSubplot object at 0x000001EDEFC40988>],\n",
       "       [<matplotlib.axes._subplots.AxesSubplot object at 0x000001EDEFF18AC8>,\n",
       "        <matplotlib.axes._subplots.AxesSubplot object at 0x000001EDEFF50BC8>,\n",
       "        <matplotlib.axes._subplots.AxesSubplot object at 0x000001EDEFF89D08>,\n",
       "        <matplotlib.axes._subplots.AxesSubplot object at 0x000001EDF0790E48>],\n",
       "       [<matplotlib.axes._subplots.AxesSubplot object at 0x000001EDF079B8C8>,\n",
       "        <matplotlib.axes._subplots.AxesSubplot object at 0x000001EDF07D3A88>,\n",
       "        <matplotlib.axes._subplots.AxesSubplot object at 0x000001EDF083B088>,\n",
       "        <matplotlib.axes._subplots.AxesSubplot object at 0x000001EDF0874188>],\n",
       "       [<matplotlib.axes._subplots.AxesSubplot object at 0x000001EDF08AC288>,\n",
       "        <matplotlib.axes._subplots.AxesSubplot object at 0x000001EDF08E5388>,\n",
       "        <matplotlib.axes._subplots.AxesSubplot object at 0x000001EDF091D488>,\n",
       "        <matplotlib.axes._subplots.AxesSubplot object at 0x000001EDF0956588>]],\n",
       "      dtype=object)"
      ]
     },
     "execution_count": 20,
     "metadata": {},
     "output_type": "execute_result"
    },
    {
     "data": {
      "image/png": "[encoded data removed]",
      "text/plain": [
       "<Figure size 864x576 with 16 Axes>"
      ]
     },
     "metadata": {
      "needs_background": "light"
     },
     "output_type": "display_data"
    }
   ],
   "source": [
    "scatter_matrix(weather, figsize=(12, 8))\n",
    "##The scatter matrices are not very useful, so we will not remove any outliers"
   ]
  },
  {
   "cell_type": "code",
   "execution_count": 21,
   "metadata": {
    "scrolled": true
   },
   "outputs": [
    {
     "data": {
      "text/plain": [
       "(47408, 4)"
      ]
     },
     "execution_count": 21,
     "metadata": {},
     "output_type": "execute_result"
    }
   ],
   "source": [
    "##pipeline creation\n",
    "\n",
    "from sklearn.pipeline import Pipeline\n",
    "from sklearn.impute import SimpleImputer\n",
    "from sklearn.preprocessing import StandardScaler\n",
    "my_pipe = Pipeline([\n",
    "    ('imputer', SimpleImputer(strategy=\"median\")),\n",
    "    ('std_scaler', StandardScaler()),\n",
    "])\n",
    "\n",
    "##Numpy array output \n",
    "weather_num = my_pipe.fit_transform(weather)\n",
    "weather_num.shape"
   ]
  },
  {
   "cell_type": "code",
   "execution_count": 22,
   "metadata": {},
   "outputs": [
    {
     "name": "stdout",
     "output_type": "stream",
     "text": [
      "Accuracy: 0.229963 (0.067)\n"
     ]
    }
   ],
   "source": [
    "##applying the model\n",
    "from sklearn.ensemble import AdaBoostClassifier\n",
    "from sklearn import metrics\n",
    "from sklearn.model_selection import cross_val_score\n",
    "from sklearn.model_selection import KFold\n",
    "from sklearn.model_selection import RandomizedSearchCV\n",
    "\n",
    "##prepare for training\n",
    "x = weather.drop('type', axis = 1)\n",
    "y = weather['type'].copy()\n",
    "\n",
    "X =my_pipe.fit_transform(x)\n",
    "\n",
    "##classifier onj\n",
    "##n_estimators is number of weak learners to train iteratively\n",
    "##learning_rate is weight of weak learners\n",
    "abcWeather= AdaBoostClassifier(n_estimators=50, random_state=1)\n",
    "cv = KFold(n_splits=10, shuffle=True, random_state=1)\n",
    "n_scores=cross_val_score(abcWeather, X, y, scoring='accuracy', cv=cv, n_jobs=1, error_score='raise')\n",
    "print('Accuracy: %3f (%.3f)' % (np.mean(n_scores), np.std(n_scores)))"
   ]
  },
  {
   "cell_type": "code",
   "execution_count": 23,
   "metadata": {},
   "outputs": [],
   "source": [
    "##Trying to improve accuracy with turning\n",
    "parameters = {\"learning_rate\": [0.1, 0.01, 0.001],\n",
    "               \"n_estimators\": [100, 250, 500, 1000]}\n",
    "search=RandomizedSearchCV(abcWeather, param_distributions = parameters, scoring = 'accuracy',\n",
    "                             cv = 10, verbose = 3, random_state = 40 )"
   ]
  },
  {
   "cell_type": "code",
   "execution_count": 25,
   "metadata": {},
   "outputs": [
    {
     "name": "stdout",
     "output_type": "stream",
     "text": [
      "Fitting 10 folds for each of 10 candidates, totalling 100 fits\n",
      "[CV] n_estimators=500, learning_rate=0.001 ...........................\n"
     ]
    },
    {
     "name": "stderr",
     "output_type": "stream",
     "text": [
      "[Parallel(n_jobs=1)]: Using backend SequentialBackend with 1 concurrent workers.\n"
     ]
    },
    {
     "name": "stdout",
     "output_type": "stream",
     "text": [
      "[CV]  n_estimators=500, learning_rate=0.001, score=0.606, total=  39.6s\n",
      "[CV] n_estimators=500, learning_rate=0.001 ...........................\n"
     ]
    },
    {
     "name": "stderr",
     "output_type": "stream",
     "text": [
      "[Parallel(n_jobs=1)]: Done   1 out of   1 | elapsed:   39.5s remaining:    0.0s\n"
     ]
    },
    {
     "name": "stdout",
     "output_type": "stream",
     "text": [
      "[CV]  n_estimators=500, learning_rate=0.001, score=0.604, total=  40.2s\n",
      "[CV] n_estimators=500, learning_rate=0.001 ...........................\n"
     ]
    },
    {
     "name": "stderr",
     "output_type": "stream",
     "text": [
      "[Parallel(n_jobs=1)]: Done   2 out of   2 | elapsed:  1.3min remaining:    0.0s\n"
     ]
    },
    {
     "name": "stdout",
     "output_type": "stream",
     "text": [
      "[CV]  n_estimators=500, learning_rate=0.001, score=0.602, total=  42.3s\n",
      "[CV] n_estimators=500, learning_rate=0.001 ...........................\n",
      "[CV]  n_estimators=500, learning_rate=0.001, score=0.608, total=  41.5s\n",
      "[CV] n_estimators=500, learning_rate=0.001 ...........................\n",
      "[CV]  n_estimators=500, learning_rate=0.001, score=0.607, total=  38.8s\n",
      "[CV] n_estimators=500, learning_rate=0.001 ...........................\n",
      "[CV]  n_estimators=500, learning_rate=0.001, score=0.610, total=  41.5s\n",
      "[CV] n_estimators=500, learning_rate=0.001 ...........................\n",
      "[CV]  n_estimators=500, learning_rate=0.001, score=0.606, total=  39.9s\n",
      "[CV] n_estimators=500, learning_rate=0.001 ...........................\n",
      "[CV]  n_estimators=500, learning_rate=0.001, score=0.610, total=  40.8s\n",
      "[CV] n_estimators=500, learning_rate=0.001 ...........................\n",
      "[CV]  n_estimators=500, learning_rate=0.001, score=0.608, total=  41.7s\n",
      "[CV] n_estimators=500, learning_rate=0.001 ...........................\n",
      "[CV]  n_estimators=500, learning_rate=0.001, score=0.612, total=  41.8s\n",
      "[CV] n_estimators=250, learning_rate=0.001 ...........................\n",
      "[CV]  n_estimators=250, learning_rate=0.001, score=0.607, total=  20.9s\n",
      "[CV] n_estimators=250, learning_rate=0.001 ...........................\n",
      "[CV]  n_estimators=250, learning_rate=0.001, score=0.604, total=  20.3s\n",
      "[CV] n_estimators=250, learning_rate=0.001 ...........................\n",
      "[CV]  n_estimators=250, learning_rate=0.001, score=0.603, total=  20.8s\n",
      "[CV] n_estimators=250, learning_rate=0.001 ...........................\n",
      "[CV]  n_estimators=250, learning_rate=0.001, score=0.608, total=  20.4s\n",
      "[CV] n_estimators=250, learning_rate=0.001 ...........................\n",
      "[CV]  n_estimators=250, learning_rate=0.001, score=0.605, total=  21.3s\n",
      "[CV] n_estimators=250, learning_rate=0.001 ...........................\n",
      "[CV]  n_estimators=250, learning_rate=0.001, score=0.611, total=  20.3s\n",
      "[CV] n_estimators=250, learning_rate=0.001 ...........................\n",
      "[CV]  n_estimators=250, learning_rate=0.001, score=0.610, total=  21.3s\n",
      "[CV] n_estimators=250, learning_rate=0.001 ...........................\n",
      "[CV]  n_estimators=250, learning_rate=0.001, score=0.610, total=  20.0s\n",
      "[CV] n_estimators=250, learning_rate=0.001 ...........................\n",
      "[CV]  n_estimators=250, learning_rate=0.001, score=0.607, total=  19.3s\n",
      "[CV] n_estimators=250, learning_rate=0.001 ...........................\n",
      "[CV]  n_estimators=250, learning_rate=0.001, score=0.613, total=  19.6s\n",
      "[CV] n_estimators=1000, learning_rate=0.001 ..........................\n",
      "[CV]  n_estimators=1000, learning_rate=0.001, score=0.591, total= 1.4min\n",
      "[CV] n_estimators=1000, learning_rate=0.001 ..........................\n",
      "[CV]  n_estimators=1000, learning_rate=0.001, score=0.591, total= 1.4min\n",
      "[CV] n_estimators=1000, learning_rate=0.001 ..........................\n",
      "[CV]  n_estimators=1000, learning_rate=0.001, score=0.591, total= 1.3min\n",
      "[CV] n_estimators=1000, learning_rate=0.001 ..........................\n",
      "[CV]  n_estimators=1000, learning_rate=0.001, score=0.591, total= 1.4min\n",
      "[CV] n_estimators=1000, learning_rate=0.001 ..........................\n",
      "[CV]  n_estimators=1000, learning_rate=0.001, score=0.591, total= 1.4min\n",
      "[CV] n_estimators=1000, learning_rate=0.001 ..........................\n",
      "[CV]  n_estimators=1000, learning_rate=0.001, score=0.591, total= 1.4min\n",
      "[CV] n_estimators=1000, learning_rate=0.001 ..........................\n",
      "[CV]  n_estimators=1000, learning_rate=0.001, score=0.591, total= 1.4min\n",
      "[CV] n_estimators=1000, learning_rate=0.001 ..........................\n",
      "[CV]  n_estimators=1000, learning_rate=0.001, score=0.591, total= 1.4min\n",
      "[CV] n_estimators=1000, learning_rate=0.001 ..........................\n",
      "[CV]  n_estimators=1000, learning_rate=0.001, score=0.591, total= 1.4min\n",
      "[CV] n_estimators=1000, learning_rate=0.001 ..........................\n",
      "[CV]  n_estimators=1000, learning_rate=0.001, score=0.591, total= 1.4min\n",
      "[CV] n_estimators=1000, learning_rate=0.1 ............................\n",
      "[CV]  n_estimators=1000, learning_rate=0.1, score=0.134, total= 1.4min\n",
      "[CV] n_estimators=1000, learning_rate=0.1 ............................\n",
      "[CV]  n_estimators=1000, learning_rate=0.1, score=0.128, total= 1.4min\n",
      "[CV] n_estimators=1000, learning_rate=0.1 ............................\n",
      "[CV]  n_estimators=1000, learning_rate=0.1, score=0.136, total= 1.4min\n",
      "[CV] n_estimators=1000, learning_rate=0.1 ............................\n",
      "[CV]  n_estimators=1000, learning_rate=0.1, score=0.116, total= 1.3min\n",
      "[CV] n_estimators=1000, learning_rate=0.1 ............................\n",
      "[CV]  n_estimators=1000, learning_rate=0.1, score=0.115, total= 1.4min\n",
      "[CV] n_estimators=1000, learning_rate=0.1 ............................\n",
      "[CV]  n_estimators=1000, learning_rate=0.1, score=0.126, total= 1.4min\n",
      "[CV] n_estimators=1000, learning_rate=0.1 ............................\n",
      "[CV]  n_estimators=1000, learning_rate=0.1, score=0.103, total= 1.4min\n",
      "[CV] n_estimators=1000, learning_rate=0.1 ............................\n",
      "[CV]  n_estimators=1000, learning_rate=0.1, score=0.135, total= 1.4min\n",
      "[CV] n_estimators=1000, learning_rate=0.1 ............................\n",
      "[CV]  n_estimators=1000, learning_rate=0.1, score=0.134, total= 1.4min\n",
      "[CV] n_estimators=1000, learning_rate=0.1 ............................\n",
      "[CV]  n_estimators=1000, learning_rate=0.1, score=0.133, total= 1.4min\n",
      "[CV] n_estimators=100, learning_rate=0.01 ............................\n",
      "[CV]  n_estimators=100, learning_rate=0.01, score=0.591, total=   8.7s\n",
      "[CV] n_estimators=100, learning_rate=0.01 ............................\n",
      "[CV]  n_estimators=100, learning_rate=0.01, score=0.591, total=   8.5s\n",
      "[CV] n_estimators=100, learning_rate=0.01 ............................\n",
      "[CV]  n_estimators=100, learning_rate=0.01, score=0.591, total=   8.6s\n",
      "[CV] n_estimators=100, learning_rate=0.01 ............................\n",
      "[CV]  n_estimators=100, learning_rate=0.01, score=0.591, total=   8.4s\n",
      "[CV] n_estimators=100, learning_rate=0.01 ............................\n",
      "[CV]  n_estimators=100, learning_rate=0.01, score=0.591, total=   8.8s\n",
      "[CV] n_estimators=100, learning_rate=0.01 ............................\n",
      "[CV]  n_estimators=100, learning_rate=0.01, score=0.591, total=   8.7s\n",
      "[CV] n_estimators=100, learning_rate=0.01 ............................\n",
      "[CV]  n_estimators=100, learning_rate=0.01, score=0.591, total=   8.7s\n",
      "[CV] n_estimators=100, learning_rate=0.01 ............................\n",
      "[CV]  n_estimators=100, learning_rate=0.01, score=0.591, total=   8.8s\n",
      "[CV] n_estimators=100, learning_rate=0.01 ............................\n",
      "[CV]  n_estimators=100, learning_rate=0.01, score=0.591, total=   8.4s\n",
      "[CV] n_estimators=100, learning_rate=0.01 ............................\n",
      "[CV]  n_estimators=100, learning_rate=0.01, score=0.591, total=   8.5s\n",
      "[CV] n_estimators=250, learning_rate=0.1 .............................\n",
      "[CV] . n_estimators=250, learning_rate=0.1, score=0.130, total=  21.3s\n",
      "[CV] n_estimators=250, learning_rate=0.1 .............................\n",
      "[CV] . n_estimators=250, learning_rate=0.1, score=0.123, total=  21.5s\n",
      "[CV] n_estimators=250, learning_rate=0.1 .............................\n",
      "[CV] . n_estimators=250, learning_rate=0.1, score=0.131, total=  21.4s\n",
      "[CV] n_estimators=250, learning_rate=0.1 .............................\n",
      "[CV] . n_estimators=250, learning_rate=0.1, score=0.159, total=  21.3s\n",
      "[CV] n_estimators=250, learning_rate=0.1 .............................\n",
      "[CV] . n_estimators=250, learning_rate=0.1, score=0.188, total=  21.5s\n",
      "[CV] n_estimators=250, learning_rate=0.1 .............................\n",
      "[CV] . n_estimators=250, learning_rate=0.1, score=0.129, total=  22.5s\n",
      "[CV] n_estimators=250, learning_rate=0.1 .............................\n",
      "[CV] . n_estimators=250, learning_rate=0.1, score=0.129, total=  21.7s\n",
      "[CV] n_estimators=250, learning_rate=0.1 .............................\n",
      "[CV] . n_estimators=250, learning_rate=0.1, score=0.129, total=  21.9s\n",
      "[CV] n_estimators=250, learning_rate=0.1 .............................\n",
      "[CV] . n_estimators=250, learning_rate=0.1, score=0.141, total=  22.2s\n",
      "[CV] n_estimators=250, learning_rate=0.1 .............................\n",
      "[CV] . n_estimators=250, learning_rate=0.1, score=0.132, total=  21.9s\n",
      "[CV] n_estimators=500, learning_rate=0.1 .............................\n"
     ]
    },
    {
     "name": "stdout",
     "output_type": "stream",
     "text": [
      "[CV] . n_estimators=500, learning_rate=0.1, score=0.110, total=  44.1s\n",
      "[CV] n_estimators=500, learning_rate=0.1 .............................\n",
      "[CV] . n_estimators=500, learning_rate=0.1, score=0.108, total=  44.8s\n",
      "[CV] n_estimators=500, learning_rate=0.1 .............................\n",
      "[CV] . n_estimators=500, learning_rate=0.1, score=0.112, total=  44.6s\n",
      "[CV] n_estimators=500, learning_rate=0.1 .............................\n",
      "[CV] . n_estimators=500, learning_rate=0.1, score=0.100, total=  42.8s\n",
      "[CV] n_estimators=500, learning_rate=0.1 .............................\n",
      "[CV] . n_estimators=500, learning_rate=0.1, score=0.125, total=  42.8s\n",
      "[CV] n_estimators=500, learning_rate=0.1 .............................\n",
      "[CV] . n_estimators=500, learning_rate=0.1, score=0.113, total=  42.8s\n",
      "[CV] n_estimators=500, learning_rate=0.1 .............................\n",
      "[CV] . n_estimators=500, learning_rate=0.1, score=0.104, total=  42.3s\n",
      "[CV] n_estimators=500, learning_rate=0.1 .............................\n",
      "[CV] . n_estimators=500, learning_rate=0.1, score=0.105, total=  41.9s\n",
      "[CV] n_estimators=500, learning_rate=0.1 .............................\n",
      "[CV] . n_estimators=500, learning_rate=0.1, score=0.115, total=  42.5s\n",
      "[CV] n_estimators=500, learning_rate=0.1 .............................\n",
      "[CV] . n_estimators=500, learning_rate=0.1, score=0.128, total=  42.0s\n",
      "[CV] n_estimators=100, learning_rate=0.1 .............................\n",
      "[CV] . n_estimators=100, learning_rate=0.1, score=0.578, total=   8.2s\n",
      "[CV] n_estimators=100, learning_rate=0.1 .............................\n",
      "[CV] . n_estimators=100, learning_rate=0.1, score=0.570, total=   9.2s\n",
      "[CV] n_estimators=100, learning_rate=0.1 .............................\n",
      "[CV] . n_estimators=100, learning_rate=0.1, score=0.572, total=   8.2s\n",
      "[CV] n_estimators=100, learning_rate=0.1 .............................\n",
      "[CV] . n_estimators=100, learning_rate=0.1, score=0.565, total=   8.5s\n",
      "[CV] n_estimators=100, learning_rate=0.1 .............................\n",
      "[CV] . n_estimators=100, learning_rate=0.1, score=0.562, total=   8.3s\n",
      "[CV] n_estimators=100, learning_rate=0.1 .............................\n",
      "[CV] . n_estimators=100, learning_rate=0.1, score=0.574, total=   8.6s\n",
      "[CV] n_estimators=100, learning_rate=0.1 .............................\n",
      "[CV] . n_estimators=100, learning_rate=0.1, score=0.574, total=   8.5s\n",
      "[CV] n_estimators=100, learning_rate=0.1 .............................\n",
      "[CV] . n_estimators=100, learning_rate=0.1, score=0.577, total=   8.6s\n",
      "[CV] n_estimators=100, learning_rate=0.1 .............................\n",
      "[CV] . n_estimators=100, learning_rate=0.1, score=0.575, total=   8.3s\n",
      "[CV] n_estimators=100, learning_rate=0.1 .............................\n",
      "[CV] . n_estimators=100, learning_rate=0.1, score=0.579, total=   8.4s\n",
      "[CV] n_estimators=100, learning_rate=0.001 ...........................\n",
      "[CV]  n_estimators=100, learning_rate=0.001, score=0.607, total=   8.2s\n",
      "[CV] n_estimators=100, learning_rate=0.001 ...........................\n",
      "[CV]  n_estimators=100, learning_rate=0.001, score=0.604, total=   8.3s\n",
      "[CV] n_estimators=100, learning_rate=0.001 ...........................\n",
      "[CV]  n_estimators=100, learning_rate=0.001, score=0.603, total=   8.3s\n",
      "[CV] n_estimators=100, learning_rate=0.001 ...........................\n",
      "[CV]  n_estimators=100, learning_rate=0.001, score=0.608, total=   8.4s\n",
      "[CV] n_estimators=100, learning_rate=0.001 ...........................\n",
      "[CV]  n_estimators=100, learning_rate=0.001, score=0.605, total=   8.2s\n",
      "[CV] n_estimators=100, learning_rate=0.001 ...........................\n",
      "[CV]  n_estimators=100, learning_rate=0.001, score=0.611, total=   8.5s\n",
      "[CV] n_estimators=100, learning_rate=0.001 ...........................\n",
      "[CV]  n_estimators=100, learning_rate=0.001, score=0.610, total=   8.3s\n",
      "[CV] n_estimators=100, learning_rate=0.001 ...........................\n",
      "[CV]  n_estimators=100, learning_rate=0.001, score=0.610, total=   8.6s\n",
      "[CV] n_estimators=100, learning_rate=0.001 ...........................\n",
      "[CV]  n_estimators=100, learning_rate=0.001, score=0.607, total=   8.4s\n",
      "[CV] n_estimators=100, learning_rate=0.001 ...........................\n",
      "[CV]  n_estimators=100, learning_rate=0.001, score=0.613, total=   8.5s\n",
      "[CV] n_estimators=250, learning_rate=0.01 ............................\n",
      "[CV]  n_estimators=250, learning_rate=0.01, score=0.595, total=  21.5s\n",
      "[CV] n_estimators=250, learning_rate=0.01 ............................\n",
      "[CV]  n_estimators=250, learning_rate=0.01, score=0.594, total=  20.7s\n",
      "[CV] n_estimators=250, learning_rate=0.01 ............................\n",
      "[CV]  n_estimators=250, learning_rate=0.01, score=0.606, total=  21.2s\n",
      "[CV] n_estimators=250, learning_rate=0.01 ............................\n",
      "[CV]  n_estimators=250, learning_rate=0.01, score=0.605, total=  21.2s\n",
      "[CV] n_estimators=250, learning_rate=0.01 ............................\n",
      "[CV]  n_estimators=250, learning_rate=0.01, score=0.597, total=  21.2s\n",
      "[CV] n_estimators=250, learning_rate=0.01 ............................\n",
      "[CV]  n_estimators=250, learning_rate=0.01, score=0.592, total=  21.0s\n",
      "[CV] n_estimators=250, learning_rate=0.01 ............................\n",
      "[CV]  n_estimators=250, learning_rate=0.01, score=0.594, total=  21.0s\n",
      "[CV] n_estimators=250, learning_rate=0.01 ............................\n",
      "[CV]  n_estimators=250, learning_rate=0.01, score=0.592, total=  21.3s\n",
      "[CV] n_estimators=250, learning_rate=0.01 ............................\n",
      "[CV]  n_estimators=250, learning_rate=0.01, score=0.593, total=  21.9s\n",
      "[CV] n_estimators=250, learning_rate=0.01 ............................\n",
      "[CV]  n_estimators=250, learning_rate=0.01, score=0.592, total=  21.8s\n"
     ]
    },
    {
     "name": "stderr",
     "output_type": "stream",
     "text": [
      "[Parallel(n_jobs=1)]: Done 100 out of 100 | elapsed: 56.3min finished\n"
     ]
    }
   ],
   "source": [
    "model_adaboost = search.fit(X, y)"
   ]
  },
  {
   "cell_type": "code",
   "execution_count": 27,
   "metadata": {},
   "outputs": [
    {
     "data": {
      "text/plain": [
       "AdaBoostClassifier(algorithm='SAMME.R', base_estimator=None,\n",
       "                   learning_rate=0.001, n_estimators=250, random_state=0)"
      ]
     },
     "execution_count": 27,
     "metadata": {},
     "output_type": "execute_result"
    }
   ],
   "source": [
    "abc_final = AdaBoostClassifier(random_state=0, n_estimators=model_adaboost.best_params_['n_estimators'],learning_rate=model_adaboost.best_params_['learning_rate'])\n",
    "abc_final.fit(X, y)"
   ]
  },
  {
   "cell_type": "code",
   "execution_count": 28,
   "metadata": {},
   "outputs": [],
   "source": [
    "##predicting response \n",
    "X_test = strat_test.drop('type', axis=1)\n",
    "x_test = my_pipe.fit_transform(X_test)\n",
    "y_test = strat_test['type'].copy()\n",
    "y_pred = search.predict(x_test)"
   ]
  },
  {
   "cell_type": "code",
   "execution_count": 31,
   "metadata": {
    "scrolled": true
   },
   "outputs": [
    {
     "name": "stdout",
     "output_type": "stream",
     "text": [
      "              precision    recall  f1-score   support\n",
      "\n",
      "           0       0.00      0.00      0.00      1000\n",
      "           1       0.00      0.00      0.00      1000\n",
      "           2       0.37      0.46      0.41      1000\n",
      "           3       0.64      0.97      0.77      7000\n",
      "           4       0.00      0.00      0.00      1000\n",
      "           5       0.00      0.00      0.00       573\n",
      "           6       0.00      0.00      0.00       106\n",
      "           7       0.00      0.00      0.00       173\n",
      "\n",
      "    accuracy                           0.61     11852\n",
      "   macro avg       0.13      0.18      0.15     11852\n",
      "weighted avg       0.41      0.61      0.49     11852\n",
      "\n"
     ]
    },
    {
     "name": "stderr",
     "output_type": "stream",
     "text": [
      "C:\\Users\\aradh\\anaconda3\\lib\\site-packages\\sklearn\\metrics\\_classification.py:1272: UndefinedMetricWarning: Precision and F-score are ill-defined and being set to 0.0 in labels with no predicted samples. Use `zero_division` parameter to control this behavior.\n",
      "  _warn_prf(average, modifier, msg_start, len(result))\n"
     ]
    }
   ],
   "source": [
    "print(metrics.classification_report(y_test,y_pred))"
   ]
  },
  {
   "cell_type": "code",
   "execution_count": 29,
   "metadata": {
    "scrolled": true
   },
   "outputs": [],
   "source": [
    "##confusion matrix\n",
    "cm = metrics.confusion_matrix(y_test, y_pred)"
   ]
  },
  {
   "cell_type": "code",
   "execution_count": 30,
   "metadata": {
    "scrolled": true
   },
   "outputs": [
    {
     "data": {
      "text/plain": [
       "<matplotlib.axes._subplots.AxesSubplot at 0x1edf2820c08>"
      ]
     },
     "execution_count": 30,
     "metadata": {},
     "output_type": "execute_result"
    },
    {
     "data": {
      "image/png": "[encoded data removed]",
      "text/plain": [
       "<Figure size 432x288 with 2 Axes>"
      ]
     },
     "metadata": {
      "needs_background": "light"
     },
     "output_type": "display_data"
    }
   ],
   "source": [
    "import seaborn as sns \n",
    "sns.heatmap(cm)"
   ]
  },
  {
   "cell_type": "code",
   "execution_count": 34,
   "metadata": {
    "scrolled": true
   },
   "outputs": [
    {
     "name": "stdout",
     "output_type": "stream",
     "text": [
      "[[   0    0  117  883    0    0    0    0]\n",
      " [   0    0  309  691    0    0    0    0]\n",
      " [   0    0  456  544    0    0    0    0]\n",
      " [   0    0  234 6766    0    0    0    0]\n",
      " [   0    0    8  992    0    0    0    0]\n",
      " [   0    0    3  570    0    0    0    0]\n",
      " [   0    0  106    0    0    0    0    0]\n",
      " [   0    0    5  168    0    0    0    0]]\n"
     ]
    }
   ],
   "source": [
    "print(cm)"
   ]
  },
  {
   "cell_type": "code",
   "execution_count": 36,
   "metadata": {},
   "outputs": [
    {
     "data": {
      "text/plain": [
       "<matplotlib.axes._subplots.AxesSubplot at 0x1edf4a83b48>"
      ]
     },
     "execution_count": 36,
     "metadata": {},
     "output_type": "execute_result"
    },
    {
     "data": {
      "image/png": "[encoded data removed]",
      "text/plain": [
       "<Figure size 432x288 with 1 Axes>"
      ]
     },
     "metadata": {
      "needs_background": "light"
     },
     "output_type": "display_data"
    }
   ],
   "source": [
    "sns.countplot(x='humidity',data=weather, palette='hls')"
   ]
  }
 ],
 "metadata": {
  "kernelspec": {
   "display_name": "Python 3",
   "language": "python",
   "name": "python3"
  },
  "language_info": {
   "codemirror_mode": {
    "name": "ipython",
    "version": 3
   },
   "file_extension": ".py",
   "mimetype": "text/x-python",
   "name": "python",
   "nbconvert_exporter": "python",
   "pygments_lexer": "ipython3",
   "version": "3.7.6"
  }
 },
 "nbformat": 4,
 "nbformat_minor": 4
}
