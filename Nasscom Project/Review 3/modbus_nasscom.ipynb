{
  "nbformat": 4,
  "nbformat_minor": 0,
  "metadata": {
    "colab": {
      "name": "modbus nasscom.ipynb",
      "provenance": []
    },
    "kernelspec": {
      "name": "python3",
      "display_name": "Python 3"
    }
  },
  "cells": [
    {
      "cell_type": "code",
      "metadata": {
        "id": "K3hQ5Z4MSeF5"
      },
      "source": [
        "%matplotlib inline"
      ],
      "execution_count": 1,
      "outputs": []
    },
    {
      "cell_type": "code",
      "metadata": {
        "id": "08pzXHLZTP9r"
      },
      "source": [
        "# import all necessary libraries\n",
        "import pandas as pd\n",
        "import numpy as np\n",
        "import matplotlib as mp\n",
        "from sklearn.model_selection import train_test_split\n",
        "from sklearn.model_selection import StratifiedShuffleSplit\n",
        "from sklearn.preprocessing import LabelEncoder\n",
        "from pandas.plotting import scatter_matrix"
      ],
      "execution_count": 2,
      "outputs": []
    },
    {
      "cell_type": "code",
      "metadata": {
        "id": "aChMh2cOTVpr"
      },
      "source": [
        "modbus = pd.read_csv(\"/Train_Test_IoT_Modbus.csv\")"
      ],
      "execution_count": 4,
      "outputs": []
    },
    {
      "cell_type": "code",
      "metadata": {
        "id": "V36azOy0TjNB",
        "outputId": "342a0fb2-87a2-40cc-b11a-2b627047106f",
        "colab": {
          "base_uri": "https://localhost:8080/",
          "height": 396
        }
      },
      "source": [
        "modbus.head()"
      ],
      "execution_count": 5,
      "outputs": [
        {
          "output_type": "execute_result",
          "data": {
            "text/html": [
              "<div>\n",
              "<style scoped>\n",
              "    .dataframe tbody tr th:only-of-type {\n",
              "        vertical-align: middle;\n",
              "    }\n",
              "\n",
              "    .dataframe tbody tr th {\n",
              "        vertical-align: top;\n",
              "    }\n",
              "\n",
              "    .dataframe thead th {\n",
              "        text-align: right;\n",
              "    }\n",
              "</style>\n",
              "<table border=\"1\" class=\"dataframe\">\n",
              "  <thead>\n",
              "    <tr style=\"text-align: right;\">\n",
              "      <th></th>\n",
              "      <th>ts</th>\n",
              "      <th>date</th>\n",
              "      <th>time</th>\n",
              "      <th>FC1_Read_Input_Register</th>\n",
              "      <th>FC2_Read_Discrete_Value</th>\n",
              "      <th>FC3_Read_Holding_Register</th>\n",
              "      <th>FC4_Read_Coil</th>\n",
              "      <th>label</th>\n",
              "      <th>type</th>\n",
              "    </tr>\n",
              "  </thead>\n",
              "  <tbody>\n",
              "    <tr>\n",
              "      <th>0</th>\n",
              "      <td>1556208840</td>\n",
              "      <td>25-Apr-19</td>\n",
              "      <td>09:14:00</td>\n",
              "      <td>49389</td>\n",
              "      <td>52921</td>\n",
              "      <td>25770</td>\n",
              "      <td>13625</td>\n",
              "      <td>1</td>\n",
              "      <td>injection</td>\n",
              "    </tr>\n",
              "    <tr>\n",
              "      <th>1</th>\n",
              "      <td>1556208840</td>\n",
              "      <td>25-Apr-19</td>\n",
              "      <td>09:14:00</td>\n",
              "      <td>49389</td>\n",
              "      <td>52921</td>\n",
              "      <td>25770</td>\n",
              "      <td>13625</td>\n",
              "      <td>1</td>\n",
              "      <td>injection</td>\n",
              "    </tr>\n",
              "    <tr>\n",
              "      <th>2</th>\n",
              "      <td>1556208841</td>\n",
              "      <td>25-Apr-19</td>\n",
              "      <td>09:14:01</td>\n",
              "      <td>49389</td>\n",
              "      <td>52921</td>\n",
              "      <td>25770</td>\n",
              "      <td>13625</td>\n",
              "      <td>1</td>\n",
              "      <td>injection</td>\n",
              "    </tr>\n",
              "    <tr>\n",
              "      <th>3</th>\n",
              "      <td>1556208842</td>\n",
              "      <td>25-Apr-19</td>\n",
              "      <td>09:14:02</td>\n",
              "      <td>49389</td>\n",
              "      <td>52921</td>\n",
              "      <td>25770</td>\n",
              "      <td>13625</td>\n",
              "      <td>1</td>\n",
              "      <td>injection</td>\n",
              "    </tr>\n",
              "    <tr>\n",
              "      <th>4</th>\n",
              "      <td>1556208844</td>\n",
              "      <td>25-Apr-19</td>\n",
              "      <td>09:14:04</td>\n",
              "      <td>40665</td>\n",
              "      <td>44748</td>\n",
              "      <td>21098</td>\n",
              "      <td>35371</td>\n",
              "      <td>1</td>\n",
              "      <td>injection</td>\n",
              "    </tr>\n",
              "  </tbody>\n",
              "</table>\n",
              "</div>"
            ],
            "text/plain": [
              "           ts       date        time  ...  FC4_Read_Coil  label       type\n",
              "0  1556208840  25-Apr-19   09:14:00   ...          13625      1  injection\n",
              "1  1556208840  25-Apr-19   09:14:00   ...          13625      1  injection\n",
              "2  1556208841  25-Apr-19   09:14:01   ...          13625      1  injection\n",
              "3  1556208842  25-Apr-19   09:14:02   ...          13625      1  injection\n",
              "4  1556208844  25-Apr-19   09:14:04   ...          35371      1  injection\n",
              "\n",
              "[5 rows x 9 columns]"
            ]
          },
          "metadata": {
            "tags": []
          },
          "execution_count": 5
        }
      ]
    },
    {
      "cell_type": "code",
      "metadata": {
        "id": "g80b273UTmn3"
      },
      "source": [
        "modbus.drop(columns=['ts','date', 'time', 'label'],inplace=True)"
      ],
      "execution_count": 6,
      "outputs": []
    },
    {
      "cell_type": "code",
      "metadata": {
        "id": "87MB17icT7HB",
        "outputId": "f3573338-fbad-4b52-80e0-e94b90cd0b13",
        "colab": {
          "base_uri": "https://localhost:8080/"
        }
      },
      "source": [
        "modbus.info()"
      ],
      "execution_count": 7,
      "outputs": [
        {
          "output_type": "stream",
          "text": [
            "<class 'pandas.core.frame.DataFrame'>\n",
            "RangeIndex: 51106 entries, 0 to 51105\n",
            "Data columns (total 5 columns):\n",
            " #   Column                     Non-Null Count  Dtype \n",
            "---  ------                     --------------  ----- \n",
            " 0   FC1_Read_Input_Register    51106 non-null  int64 \n",
            " 1   FC2_Read_Discrete_Value    51106 non-null  int64 \n",
            " 2   FC3_Read_Holding_Register  51106 non-null  int64 \n",
            " 3   FC4_Read_Coil              51106 non-null  int64 \n",
            " 4   type                       51106 non-null  object\n",
            "dtypes: int64(4), object(1)\n",
            "memory usage: 1.9+ MB\n"
          ],
          "name": "stdout"
        }
      ]
    },
    {
      "cell_type": "code",
      "metadata": {
        "id": "bNlUN5l6UH5P",
        "outputId": "2ab63a2e-7068-4afa-f71d-b3864c253f7f",
        "colab": {
          "base_uri": "https://localhost:8080/"
        }
      },
      "source": [
        "modbus['type'].value_counts()"
      ],
      "execution_count": 8,
      "outputs": [
        {
          "output_type": "execute_result",
          "data": {
            "text/plain": [
              "normal       35000\n",
              "injection     5000\n",
              "password      5000\n",
              "backdoor      5000\n",
              "xss            577\n",
              "scanning       529\n",
              "Name: type, dtype: int64"
            ]
          },
          "metadata": {
            "tags": []
          },
          "execution_count": 8
        }
      ]
    },
    {
      "cell_type": "code",
      "metadata": {
        "id": "U-eEW53gUOj2"
      },
      "source": [
        "label_type = LabelEncoder()\n",
        "modbus['type']=label_type.fit_transform(modbus['type'])"
      ],
      "execution_count": 9,
      "outputs": []
    },
    {
      "cell_type": "code",
      "metadata": {
        "id": "LUkvlShfUYdZ",
        "outputId": "ef3b6119-bd4b-4443-d218-14667859b07f",
        "colab": {
          "base_uri": "https://localhost:8080/"
        }
      },
      "source": [
        "modbus['type'].value_counts()"
      ],
      "execution_count": 10,
      "outputs": [
        {
          "output_type": "execute_result",
          "data": {
            "text/plain": [
              "2    35000\n",
              "3     5000\n",
              "1     5000\n",
              "0     5000\n",
              "5      577\n",
              "4      529\n",
              "Name: type, dtype: int64"
            ]
          },
          "metadata": {
            "tags": []
          },
          "execution_count": 10
        }
      ]
    },
    {
      "cell_type": "code",
      "metadata": {
        "id": "fexYyvHxV6js",
        "outputId": "a87e6965-697f-41b0-e356-f7719fbfd063",
        "colab": {
          "base_uri": "https://localhost:8080/"
        }
      },
      "source": [
        "modbus.isnull().sum()"
      ],
      "execution_count": 11,
      "outputs": [
        {
          "output_type": "execute_result",
          "data": {
            "text/plain": [
              "FC1_Read_Input_Register      0\n",
              "FC2_Read_Discrete_Value      0\n",
              "FC3_Read_Holding_Register    0\n",
              "FC4_Read_Coil                0\n",
              "type                         0\n",
              "dtype: int64"
            ]
          },
          "metadata": {
            "tags": []
          },
          "execution_count": 11
        }
      ]
    },
    {
      "cell_type": "code",
      "metadata": {
        "id": "b0tHqijMYVAW"
      },
      "source": [
        "from sklearn.model_selection import StratifiedShuffleSplit\n",
        "split = StratifiedShuffleSplit(n_splits=1, test_size=0.3, random_state=42)\n",
        "for train_index, test_index in split.split(modbus, modbus['type']):\n",
        "  strat_train = modbus.loc[train_index]\n",
        "  strat_test = modbus.loc[test_index]"
      ],
      "execution_count": 12,
      "outputs": []
    },
    {
      "cell_type": "code",
      "metadata": {
        "id": "CX8cBTmAZBLu"
      },
      "source": [
        "modbus = strat_train.copy()"
      ],
      "execution_count": 13,
      "outputs": []
    },
    {
      "cell_type": "code",
      "metadata": {
        "id": "-4W-UVLEZFKD",
        "outputId": "b36233d1-cd85-49b2-d166-c29e2541cf40",
        "colab": {
          "base_uri": "https://localhost:8080/"
        }
      },
      "source": [
        "modbus.info()"
      ],
      "execution_count": 14,
      "outputs": [
        {
          "output_type": "stream",
          "text": [
            "<class 'pandas.core.frame.DataFrame'>\n",
            "Int64Index: 35774 entries, 48273 to 26801\n",
            "Data columns (total 5 columns):\n",
            " #   Column                     Non-Null Count  Dtype\n",
            "---  ------                     --------------  -----\n",
            " 0   FC1_Read_Input_Register    35774 non-null  int64\n",
            " 1   FC2_Read_Discrete_Value    35774 non-null  int64\n",
            " 2   FC3_Read_Holding_Register  35774 non-null  int64\n",
            " 3   FC4_Read_Coil              35774 non-null  int64\n",
            " 4   type                       35774 non-null  int64\n",
            "dtypes: int64(5)\n",
            "memory usage: 1.6 MB\n"
          ],
          "name": "stdout"
        }
      ]
    },
    {
      "cell_type": "code",
      "metadata": {
        "id": "LiEBbquhadpN"
      },
      "source": [
        "##pipeline creation\n",
        "\n",
        "from sklearn.pipeline import Pipeline\n",
        "from sklearn.impute import SimpleImputer\n",
        "from sklearn.preprocessing import StandardScaler\n",
        "my_pipe = Pipeline([\n",
        "    ('imputer', SimpleImputer(strategy=\"median\")),\n",
        "    ('std_scaler', StandardScaler()),\n",
        "])"
      ],
      "execution_count": 15,
      "outputs": []
    },
    {
      "cell_type": "code",
      "metadata": {
        "id": "VlVmrq5AZHvn"
      },
      "source": [
        "X_train=modbus.drop(\"type\", axis = 1)\n",
        "Y_train=modbus['type'].copy()\n",
        "X_test = strat_test.drop(\"type\",axis = 1)\n",
        "Y_test = strat_test['type'].copy()"
      ],
      "execution_count": 16,
      "outputs": []
    },
    {
      "cell_type": "code",
      "metadata": {
        "id": "q87eEG3CaX2l"
      },
      "source": [
        "X_train = my_pipe.fit_transform(X_train)\n",
        "X_test = my_pipe.fit_transform(X_test)\n",
        "\n",
        "# add rus here"
      ],
      "execution_count": 17,
      "outputs": []
    },
    {
      "cell_type": "code",
      "metadata": {
        "id": "qL-mZsVja8gP",
        "outputId": "63d6d69d-d160-4da9-eda6-d04deea11198",
        "colab": {
          "base_uri": "https://localhost:8080/"
        }
      },
      "source": [
        "from sklearn.ensemble import AdaBoostClassifier\n",
        "from sklearn import metrics\n",
        "#import for normalize, cross val, kfold, randomsearch\n",
        "from sklearn.model_selection import cross_val_score\n",
        "from sklearn.model_selection import KFold\n",
        "from sklearn.model_selection import RandomizedSearchCV\n",
        "\n",
        "##n_estimators is number of weak learners to train iteratively\n",
        "##learning_rate is weight of weak learners\n",
        "abcMod = AdaBoostClassifier(n_estimators = 50, random_state=1)\n",
        "cv = KFold(n_splits=10, shuffle=True, random_state=1)\n",
        "n_scores=cross_val_score(abcMod, X_train, Y_train, scoring='accuracy', cv=cv, n_jobs=1, error_score='raise')\n",
        "print('Accuracy: %3f (%.3f)' % (np.mean(n_scores), np.std(n_scores)))"
      ],
      "execution_count": 22,
      "outputs": [
        {
          "output_type": "stream",
          "text": [
            "Accuracy: 0.684380 (0.006)\n"
          ],
          "name": "stdout"
        }
      ]
    },
    {
      "cell_type": "code",
      "metadata": {
        "id": "FkJiLNVfbc5J",
        "outputId": "be6e36b9-0e01-43dd-932b-6136aff2f3a6",
        "colab": {
          "base_uri": "https://localhost:8080/"
        }
      },
      "source": [
        "abcMod.fit(X_train, Y_train)"
      ],
      "execution_count": 19,
      "outputs": [
        {
          "output_type": "execute_result",
          "data": {
            "text/plain": [
              "AdaBoostClassifier(algorithm='SAMME.R', base_estimator=None, learning_rate=1.0,\n",
              "                   n_estimators=50, random_state=1)"
            ]
          },
          "metadata": {
            "tags": []
          },
          "execution_count": 19
        }
      ]
    },
    {
      "cell_type": "code",
      "metadata": {
        "id": "mBIUFx5LbhOq"
      },
      "source": [
        "y_pred = abcMod.predict(X_test)"
      ],
      "execution_count": 20,
      "outputs": []
    },
    {
      "cell_type": "code",
      "metadata": {
        "id": "_K82E3Ynbm1I",
        "outputId": "b2854bcb-a5c5-4d3f-e6ba-b92ceac3f497",
        "colab": {
          "base_uri": "https://localhost:8080/"
        }
      },
      "source": [
        "print(metrics.classification_report(Y_test,y_pred))"
      ],
      "execution_count": 21,
      "outputs": [
        {
          "output_type": "stream",
          "text": [
            "              precision    recall  f1-score   support\n",
            "\n",
            "           0       0.36      0.01      0.01      1500\n",
            "           1       0.00      0.00      0.00      1500\n",
            "           2       0.69      1.00      0.81     10500\n",
            "           3       0.00      0.00      0.00      1500\n",
            "           4       0.00      0.00      0.00       159\n",
            "           5       0.00      0.00      0.00       173\n",
            "\n",
            "    accuracy                           0.68     15332\n",
            "   macro avg       0.17      0.17      0.14     15332\n",
            "weighted avg       0.50      0.68      0.56     15332\n",
            "\n"
          ],
          "name": "stdout"
        },
        {
          "output_type": "stream",
          "text": [
            "/usr/local/lib/python3.6/dist-packages/sklearn/metrics/_classification.py:1272: UndefinedMetricWarning: Precision and F-score are ill-defined and being set to 0.0 in labels with no predicted samples. Use `zero_division` parameter to control this behavior.\n",
            "  _warn_prf(average, modifier, msg_start, len(result))\n"
          ],
          "name": "stderr"
        }
      ]
    },
    {
      "cell_type": "code",
      "metadata": {
        "id": "HFDRzvicbwe_",
        "outputId": "d61bab72-754b-46cd-c70c-0f7f82ff01dd",
        "colab": {
          "base_uri": "https://localhost:8080/",
          "height": 284
        }
      },
      "source": [
        "cm = metrics.confusion_matrix(Y_test, y_pred)\n",
        "import seaborn as sns\n",
        "sns.heatmap(cm)"
      ],
      "execution_count": 24,
      "outputs": [
        {
          "output_type": "execute_result",
          "data": {
            "text/plain": [
              "<matplotlib.axes._subplots.AxesSubplot at 0x7f082672a0b8>"
            ]
          },
          "metadata": {
            "tags": []
          },
          "execution_count": 24
        },
        {
          "output_type": "display_data",
          "data": {
            "image/png": "[encoded data removed]",
            "text/plain": [
              "<Figure size 432x288 with 2 Axes>"
            ]
          },
          "metadata": {
            "tags": [],
            "needs_background": "light"
          }
        }
      ]
    },
    {
      "cell_type": "markdown",
      "metadata": {
        "id": "QZWmmWoyIrb8"
      },
      "source": [
        "![image.png](data:image/png;base64,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)"
      ]
    },
    {
      "cell_type": "markdown",
      "metadata": {
        "id": "AcJg9mVLIxO1"
      },
      "source": [
        "## **Hyper Parameter Tuning**"
      ]
    },
    {
      "cell_type": "code",
      "metadata": {
        "id": "vPawEG1fIq9R"
      },
      "source": [
        "parameters = {\"learning_rate\":[0.1,0.01,0.001],\n",
        "              \"n_estimators\":[100,250,500,1000]}\n",
        "search = RandomizedSearchCV(abcMod, param_distributions=parameters, scoring='accuracy', cv=10,\n",
        "                            verbose=3, random_state=42)"
      ],
      "execution_count": 23,
      "outputs": []
    },
    {
      "cell_type": "code",
      "metadata": {
        "id": "X8SgkUYhJQ0N",
        "outputId": "d2b596cb-5469-4261-dcb5-7a25fba881a7",
        "colab": {
          "base_uri": "https://localhost:8080/"
        }
      },
      "source": [
        "model_abc = search.fit(X_train, Y_train)"
      ],
      "execution_count": null,
      "outputs": [
        {
          "output_type": "stream",
          "text": [
            "Fitting 10 folds for each of 10 candidates, totalling 100 fits\n",
            "[CV] n_estimators=500, learning_rate=0.001 ...........................\n"
          ],
          "name": "stdout"
        },
        {
          "output_type": "stream",
          "text": [
            "[Parallel(n_jobs=1)]: Using backend SequentialBackend with 1 concurrent workers.\n"
          ],
          "name": "stderr"
        },
        {
          "output_type": "stream",
          "text": [
            "[CV]  n_estimators=500, learning_rate=0.001, score=0.685, total=  15.6s\n",
            "[CV] n_estimators=500, learning_rate=0.001 ...........................\n"
          ],
          "name": "stdout"
        },
        {
          "output_type": "stream",
          "text": [
            "[Parallel(n_jobs=1)]: Done   1 out of   1 | elapsed:   15.6s remaining:    0.0s\n"
          ],
          "name": "stderr"
        },
        {
          "output_type": "stream",
          "text": [
            "[CV]  n_estimators=500, learning_rate=0.001, score=0.685, total=  15.9s\n",
            "[CV] n_estimators=500, learning_rate=0.001 ...........................\n"
          ],
          "name": "stdout"
        },
        {
          "output_type": "stream",
          "text": [
            "[Parallel(n_jobs=1)]: Done   2 out of   2 | elapsed:   31.5s remaining:    0.0s\n"
          ],
          "name": "stderr"
        },
        {
          "output_type": "stream",
          "text": [
            "[CV]  n_estimators=500, learning_rate=0.001, score=0.685, total=  15.8s\n",
            "[CV] n_estimators=500, learning_rate=0.001 ...........................\n",
            "[CV]  n_estimators=500, learning_rate=0.001, score=0.685, total=  15.7s\n",
            "[CV] n_estimators=500, learning_rate=0.001 ...........................\n",
            "[CV]  n_estimators=500, learning_rate=0.001, score=0.685, total=  15.7s\n",
            "[CV] n_estimators=500, learning_rate=0.001 ...........................\n",
            "[CV]  n_estimators=500, learning_rate=0.001, score=0.685, total=  15.7s\n",
            "[CV] n_estimators=500, learning_rate=0.001 ...........................\n",
            "[CV]  n_estimators=500, learning_rate=0.001, score=0.685, total=  15.6s\n",
            "[CV] n_estimators=500, learning_rate=0.001 ...........................\n",
            "[CV]  n_estimators=500, learning_rate=0.001, score=0.685, total=  15.7s\n",
            "[CV] n_estimators=500, learning_rate=0.001 ...........................\n",
            "[CV]  n_estimators=500, learning_rate=0.001, score=0.685, total=  15.7s\n",
            "[CV] n_estimators=500, learning_rate=0.001 ...........................\n",
            "[CV]  n_estimators=500, learning_rate=0.001, score=0.685, total=  15.6s\n",
            "[CV] n_estimators=250, learning_rate=0.001 ...........................\n",
            "[CV]  n_estimators=250, learning_rate=0.001, score=0.685, total=   7.8s\n",
            "[CV] n_estimators=250, learning_rate=0.001 ...........................\n",
            "[CV]  n_estimators=250, learning_rate=0.001, score=0.685, total=   7.8s\n",
            "[CV] n_estimators=250, learning_rate=0.001 ...........................\n",
            "[CV]  n_estimators=250, learning_rate=0.001, score=0.685, total=   7.8s\n",
            "[CV] n_estimators=250, learning_rate=0.001 ...........................\n",
            "[CV]  n_estimators=250, learning_rate=0.001, score=0.685, total=   7.8s\n",
            "[CV] n_estimators=250, learning_rate=0.001 ...........................\n",
            "[CV]  n_estimators=250, learning_rate=0.001, score=0.685, total=   7.8s\n",
            "[CV] n_estimators=250, learning_rate=0.001 ...........................\n",
            "[CV]  n_estimators=250, learning_rate=0.001, score=0.685, total=   7.8s\n",
            "[CV] n_estimators=250, learning_rate=0.001 ...........................\n",
            "[CV]  n_estimators=250, learning_rate=0.001, score=0.685, total=   7.8s\n",
            "[CV] n_estimators=250, learning_rate=0.001 ...........................\n",
            "[CV]  n_estimators=250, learning_rate=0.001, score=0.685, total=   7.9s\n",
            "[CV] n_estimators=250, learning_rate=0.001 ...........................\n",
            "[CV]  n_estimators=250, learning_rate=0.001, score=0.685, total=   7.8s\n",
            "[CV] n_estimators=250, learning_rate=0.001 ...........................\n",
            "[CV]  n_estimators=250, learning_rate=0.001, score=0.685, total=   7.8s\n",
            "[CV] n_estimators=100, learning_rate=0.1 .............................\n",
            "[CV] . n_estimators=100, learning_rate=0.1, score=0.685, total=   3.1s\n",
            "[CV] n_estimators=100, learning_rate=0.1 .............................\n",
            "[CV] . n_estimators=100, learning_rate=0.1, score=0.685, total=   3.1s\n",
            "[CV] n_estimators=100, learning_rate=0.1 .............................\n",
            "[CV] . n_estimators=100, learning_rate=0.1, score=0.685, total=   3.2s\n",
            "[CV] n_estimators=100, learning_rate=0.1 .............................\n",
            "[CV] . n_estimators=100, learning_rate=0.1, score=0.685, total=   3.2s\n",
            "[CV] n_estimators=100, learning_rate=0.1 .............................\n",
            "[CV] . n_estimators=100, learning_rate=0.1, score=0.685, total=   3.2s\n",
            "[CV] n_estimators=100, learning_rate=0.1 .............................\n",
            "[CV] . n_estimators=100, learning_rate=0.1, score=0.685, total=   3.2s\n",
            "[CV] n_estimators=100, learning_rate=0.1 .............................\n",
            "[CV] . n_estimators=100, learning_rate=0.1, score=0.685, total=   3.1s\n",
            "[CV] n_estimators=100, learning_rate=0.1 .............................\n",
            "[CV] . n_estimators=100, learning_rate=0.1, score=0.685, total=   3.1s\n",
            "[CV] n_estimators=100, learning_rate=0.1 .............................\n",
            "[CV] . n_estimators=100, learning_rate=0.1, score=0.685, total=   3.1s\n",
            "[CV] n_estimators=100, learning_rate=0.1 .............................\n",
            "[CV] . n_estimators=100, learning_rate=0.1, score=0.685, total=   3.1s\n",
            "[CV] n_estimators=100, learning_rate=0.001 ...........................\n",
            "[CV]  n_estimators=100, learning_rate=0.001, score=0.685, total=   3.1s\n",
            "[CV] n_estimators=100, learning_rate=0.001 ...........................\n",
            "[CV]  n_estimators=100, learning_rate=0.001, score=0.685, total=   3.1s\n",
            "[CV] n_estimators=100, learning_rate=0.001 ...........................\n",
            "[CV]  n_estimators=100, learning_rate=0.001, score=0.685, total=   3.2s\n",
            "[CV] n_estimators=100, learning_rate=0.001 ...........................\n",
            "[CV]  n_estimators=100, learning_rate=0.001, score=0.685, total=   3.1s\n",
            "[CV] n_estimators=100, learning_rate=0.001 ...........................\n",
            "[CV]  n_estimators=100, learning_rate=0.001, score=0.685, total=   3.2s\n",
            "[CV] n_estimators=100, learning_rate=0.001 ...........................\n",
            "[CV]  n_estimators=100, learning_rate=0.001, score=0.685, total=   3.1s\n",
            "[CV] n_estimators=100, learning_rate=0.001 ...........................\n",
            "[CV]  n_estimators=100, learning_rate=0.001, score=0.685, total=   3.1s\n",
            "[CV] n_estimators=100, learning_rate=0.001 ...........................\n",
            "[CV]  n_estimators=100, learning_rate=0.001, score=0.685, total=   3.1s\n",
            "[CV] n_estimators=100, learning_rate=0.001 ...........................\n",
            "[CV]  n_estimators=100, learning_rate=0.001, score=0.685, total=   3.1s\n",
            "[CV] n_estimators=100, learning_rate=0.001 ...........................\n",
            "[CV]  n_estimators=100, learning_rate=0.001, score=0.685, total=   3.2s\n",
            "[CV] n_estimators=250, learning_rate=0.01 ............................\n",
            "[CV]  n_estimators=250, learning_rate=0.01, score=0.685, total=   7.8s\n",
            "[CV] n_estimators=250, learning_rate=0.01 ............................\n",
            "[CV]  n_estimators=250, learning_rate=0.01, score=0.685, total=   7.8s\n",
            "[CV] n_estimators=250, learning_rate=0.01 ............................\n",
            "[CV]  n_estimators=250, learning_rate=0.01, score=0.685, total=   7.9s\n",
            "[CV] n_estimators=250, learning_rate=0.01 ............................\n",
            "[CV]  n_estimators=250, learning_rate=0.01, score=0.685, total=   7.9s\n",
            "[CV] n_estimators=250, learning_rate=0.01 ............................\n",
            "[CV]  n_estimators=250, learning_rate=0.01, score=0.685, total=   7.9s\n",
            "[CV] n_estimators=250, learning_rate=0.01 ............................\n",
            "[CV]  n_estimators=250, learning_rate=0.01, score=0.685, total=   7.8s\n",
            "[CV] n_estimators=250, learning_rate=0.01 ............................\n",
            "[CV]  n_estimators=250, learning_rate=0.01, score=0.685, total=   7.9s\n",
            "[CV] n_estimators=250, learning_rate=0.01 ............................\n",
            "[CV]  n_estimators=250, learning_rate=0.01, score=0.685, total=   7.8s\n",
            "[CV] n_estimators=250, learning_rate=0.01 ............................\n",
            "[CV]  n_estimators=250, learning_rate=0.01, score=0.685, total=   7.8s\n",
            "[CV] n_estimators=250, learning_rate=0.01 ............................\n",
            "[CV]  n_estimators=250, learning_rate=0.01, score=0.685, total=   7.8s\n",
            "[CV] n_estimators=500, learning_rate=0.1 .............................\n",
            "[CV] . n_estimators=500, learning_rate=0.1, score=0.685, total=  15.5s\n",
            "[CV] n_estimators=500, learning_rate=0.1 .............................\n",
            "[CV] . n_estimators=500, learning_rate=0.1, score=0.685, total=  15.5s\n",
            "[CV] n_estimators=500, learning_rate=0.1 .............................\n",
            "[CV] . n_estimators=500, learning_rate=0.1, score=0.685, total=  15.5s\n",
            "[CV] n_estimators=500, learning_rate=0.1 .............................\n",
            "[CV] . n_estimators=500, learning_rate=0.1, score=0.685, total=  15.6s\n",
            "[CV] n_estimators=500, learning_rate=0.1 .............................\n",
            "[CV] . n_estimators=500, learning_rate=0.1, score=0.685, total=  15.6s\n",
            "[CV] n_estimators=500, learning_rate=0.1 .............................\n",
            "[CV] . n_estimators=500, learning_rate=0.1, score=0.685, total=  15.6s\n",
            "[CV] n_estimators=500, learning_rate=0.1 .............................\n",
            "[CV] . n_estimators=500, learning_rate=0.1, score=0.685, total=  15.5s\n",
            "[CV] n_estimators=500, learning_rate=0.1 .............................\n",
            "[CV] . n_estimators=500, learning_rate=0.1, score=0.685, total=  15.5s\n",
            "[CV] n_estimators=500, learning_rate=0.1 .............................\n",
            "[CV] . n_estimators=500, learning_rate=0.1, score=0.685, total=  15.6s\n",
            "[CV] n_estimators=500, learning_rate=0.1 .............................\n",
            "[CV] . n_estimators=500, learning_rate=0.1, score=0.685, total=  15.5s\n",
            "[CV] n_estimators=250, learning_rate=0.1 .............................\n",
            "[CV] . n_estimators=250, learning_rate=0.1, score=0.685, total=   7.7s\n",
            "[CV] n_estimators=250, learning_rate=0.1 .............................\n",
            "[CV] . n_estimators=250, learning_rate=0.1, score=0.685, total=   7.8s\n",
            "[CV] n_estimators=250, learning_rate=0.1 .............................\n",
            "[CV] . n_estimators=250, learning_rate=0.1, score=0.685, total=   7.8s\n",
            "[CV] n_estimators=250, learning_rate=0.1 .............................\n",
            "[CV] . n_estimators=250, learning_rate=0.1, score=0.685, total=   7.9s\n",
            "[CV] n_estimators=250, learning_rate=0.1 .............................\n",
            "[CV] . n_estimators=250, learning_rate=0.1, score=0.685, total=   7.8s\n",
            "[CV] n_estimators=250, learning_rate=0.1 .............................\n",
            "[CV] . n_estimators=250, learning_rate=0.1, score=0.685, total=   9.9s\n",
            "[CV] n_estimators=250, learning_rate=0.1 .............................\n",
            "[CV] . n_estimators=250, learning_rate=0.1, score=0.685, total=   8.6s\n",
            "[CV] n_estimators=250, learning_rate=0.1 .............................\n",
            "[CV] . n_estimators=250, learning_rate=0.1, score=0.685, total=   7.8s\n",
            "[CV] n_estimators=250, learning_rate=0.1 .............................\n",
            "[CV] . n_estimators=250, learning_rate=0.1, score=0.685, total=   7.8s\n",
            "[CV] n_estimators=250, learning_rate=0.1 .............................\n",
            "[CV] . n_estimators=250, learning_rate=0.1, score=0.685, total=   7.8s\n",
            "[CV] n_estimators=1000, learning_rate=0.001 ..........................\n",
            "[CV]  n_estimators=1000, learning_rate=0.001, score=0.685, total=  31.1s\n",
            "[CV] n_estimators=1000, learning_rate=0.001 ..........................\n",
            "[CV]  n_estimators=1000, learning_rate=0.001, score=0.685, total=  31.1s\n",
            "[CV] n_estimators=1000, learning_rate=0.001 ..........................\n",
            "[CV]  n_estimators=1000, learning_rate=0.001, score=0.685, total=  31.1s\n",
            "[CV] n_estimators=1000, learning_rate=0.001 ..........................\n",
            "[CV]  n_estimators=1000, learning_rate=0.001, score=0.685, total=  31.1s\n",
            "[CV] n_estimators=1000, learning_rate=0.001 ..........................\n",
            "[CV]  n_estimators=1000, learning_rate=0.001, score=0.685, total=  31.1s\n",
            "[CV] n_estimators=1000, learning_rate=0.001 ..........................\n",
            "[CV]  n_estimators=1000, learning_rate=0.001, score=0.685, total=  31.0s\n",
            "[CV] n_estimators=1000, learning_rate=0.001 ..........................\n",
            "[CV]  n_estimators=1000, learning_rate=0.001, score=0.685, total=  31.1s\n",
            "[CV] n_estimators=1000, learning_rate=0.001 ..........................\n",
            "[CV]  n_estimators=1000, learning_rate=0.001, score=0.685, total=  31.0s\n",
            "[CV] n_estimators=1000, learning_rate=0.001 ..........................\n"
          ],
          "name": "stdout"
        }
      ]
    },
    {
      "cell_type": "code",
      "metadata": {
        "id": "6BWDkOxVJcnX"
      },
      "source": [
        "abc_final = AdaBoostClassifier(random_state=42, n_estimators=model_abc.best_params_['n_estimators'],learning_rate=model_abc.best_params_['learning_rate'])\n",
        "abc_final.fit(X_train, Y_train)\n",
        "\n",
        "y_pred1 = abc_final.predict(X_test)"
      ],
      "execution_count": null,
      "outputs": []
    },
    {
      "cell_type": "code",
      "metadata": {
        "id": "VFfn_ydhJwjG"
      },
      "source": [
        "print(metrics.classification_report(Y_test, y_pred1))"
      ],
      "execution_count": null,
      "outputs": []
    }
  ]
}