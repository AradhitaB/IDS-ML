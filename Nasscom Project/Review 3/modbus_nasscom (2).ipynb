{
  "nbformat": 4,
  "nbformat_minor": 0,
  "metadata": {
    "colab": {
      "name": "modbus_nasscom.ipynb",
      "provenance": []
    },
    "kernelspec": {
      "name": "python3",
      "display_name": "Python 3"
    }
  },
  "cells": [
    {
      "cell_type": "code",
      "metadata": {
        "id": "K3hQ5Z4MSeF5"
      },
      "source": [
        "%matplotlib inline"
      ],
      "execution_count": 1,
      "outputs": []
    },
    {
      "cell_type": "code",
      "metadata": {
        "id": "08pzXHLZTP9r"
      },
      "source": [
        "# import all necessary libraries\n",
        "import pandas as pd\n",
        "import numpy as np\n",
        "import matplotlib as mp\n",
        "from sklearn.model_selection import train_test_split\n",
        "from sklearn.model_selection import StratifiedShuffleSplit\n",
        "from sklearn.preprocessing import LabelEncoder\n",
        "from pandas.plotting import scatter_matrix"
      ],
      "execution_count": 2,
      "outputs": []
    },
    {
      "cell_type": "code",
      "metadata": {
        "id": "aChMh2cOTVpr"
      },
      "source": [
        "gps = pd.read_csv(\"/var/Train_Test_IoT_GPS_Tracker.csv\")"
      ],
      "execution_count": 3,
      "outputs": []
    },
    {
      "cell_type": "code",
      "metadata": {
        "id": "V36azOy0TjNB",
        "outputId": "fb65ae64-44e6-4b6c-ee3b-1bc605762021",
        "colab": {
          "base_uri": "https://localhost:8080/",
          "height": 202
        }
      },
      "source": [
        "gps.head()"
      ],
      "execution_count": 4,
      "outputs": [
        {
          "output_type": "execute_result",
          "data": {
            "text/html": [
              "<div>\n",
              "<style scoped>\n",
              "    .dataframe tbody tr th:only-of-type {\n",
              "        vertical-align: middle;\n",
              "    }\n",
              "\n",
              "    .dataframe tbody tr th {\n",
              "        vertical-align: top;\n",
              "    }\n",
              "\n",
              "    .dataframe thead th {\n",
              "        text-align: right;\n",
              "    }\n",
              "</style>\n",
              "<table border=\"1\" class=\"dataframe\">\n",
              "  <thead>\n",
              "    <tr style=\"text-align: right;\">\n",
              "      <th></th>\n",
              "      <th>ts</th>\n",
              "      <th>date</th>\n",
              "      <th>time</th>\n",
              "      <th>latitude</th>\n",
              "      <th>longitude</th>\n",
              "      <th>label</th>\n",
              "      <th>type</th>\n",
              "    </tr>\n",
              "  </thead>\n",
              "  <tbody>\n",
              "    <tr>\n",
              "      <th>0</th>\n",
              "      <td>1556242299</td>\n",
              "      <td>25-Apr-19</td>\n",
              "      <td>18:31:39</td>\n",
              "      <td>116.521704</td>\n",
              "      <td>132.162504</td>\n",
              "      <td>1</td>\n",
              "      <td>ddos</td>\n",
              "    </tr>\n",
              "    <tr>\n",
              "      <th>1</th>\n",
              "      <td>1556242301</td>\n",
              "      <td>25-Apr-19</td>\n",
              "      <td>18:31:41</td>\n",
              "      <td>121.742933</td>\n",
              "      <td>135.072500</td>\n",
              "      <td>1</td>\n",
              "      <td>ddos</td>\n",
              "    </tr>\n",
              "    <tr>\n",
              "      <th>2</th>\n",
              "      <td>1556242306</td>\n",
              "      <td>25-Apr-19</td>\n",
              "      <td>18:31:46</td>\n",
              "      <td>121.795929</td>\n",
              "      <td>135.110198</td>\n",
              "      <td>1</td>\n",
              "      <td>ddos</td>\n",
              "    </tr>\n",
              "    <tr>\n",
              "      <th>3</th>\n",
              "      <td>1556242309</td>\n",
              "      <td>25-Apr-19</td>\n",
              "      <td>18:31:49</td>\n",
              "      <td>116.611216</td>\n",
              "      <td>132.224555</td>\n",
              "      <td>1</td>\n",
              "      <td>ddos</td>\n",
              "    </tr>\n",
              "    <tr>\n",
              "      <th>4</th>\n",
              "      <td>1556242311</td>\n",
              "      <td>25-Apr-19</td>\n",
              "      <td>18:31:51</td>\n",
              "      <td>121.841526</td>\n",
              "      <td>135.151362</td>\n",
              "      <td>1</td>\n",
              "      <td>ddos</td>\n",
              "    </tr>\n",
              "  </tbody>\n",
              "</table>\n",
              "</div>"
            ],
            "text/plain": [
              "           ts       date        time    latitude   longitude  label  type\n",
              "0  1556242299  25-Apr-19   18:31:39   116.521704  132.162504      1  ddos\n",
              "1  1556242301  25-Apr-19   18:31:41   121.742933  135.072500      1  ddos\n",
              "2  1556242306  25-Apr-19   18:31:46   121.795929  135.110198      1  ddos\n",
              "3  1556242309  25-Apr-19   18:31:49   116.611216  132.224555      1  ddos\n",
              "4  1556242311  25-Apr-19   18:31:51   121.841526  135.151362      1  ddos"
            ]
          },
          "metadata": {
            "tags": []
          },
          "execution_count": 4
        }
      ]
    },
    {
      "cell_type": "code",
      "metadata": {
        "id": "g80b273UTmn3"
      },
      "source": [
        "gps.drop(columns=['ts','date', 'time', 'label'],inplace=True)"
      ],
      "execution_count": 5,
      "outputs": []
    },
    {
      "cell_type": "code",
      "metadata": {
        "id": "87MB17icT7HB",
        "outputId": "8ad6f4a1-c0dc-416a-a5d0-fa737c15466b",
        "colab": {
          "base_uri": "https://localhost:8080/"
        }
      },
      "source": [
        "gps.info()"
      ],
      "execution_count": 6,
      "outputs": [
        {
          "output_type": "stream",
          "text": [
            "<class 'pandas.core.frame.DataFrame'>\n",
            "RangeIndex: 58960 entries, 0 to 58959\n",
            "Data columns (total 3 columns):\n",
            " #   Column     Non-Null Count  Dtype  \n",
            "---  ------     --------------  -----  \n",
            " 0   latitude   58960 non-null  float64\n",
            " 1   longitude  58960 non-null  float64\n",
            " 2   type       58960 non-null  object \n",
            "dtypes: float64(2), object(1)\n",
            "memory usage: 1.3+ MB\n"
          ],
          "name": "stdout"
        }
      ]
    },
    {
      "cell_type": "code",
      "metadata": {
        "id": "bNlUN5l6UH5P",
        "outputId": "d6f503b7-74de-4f59-a1d5-933923e88933",
        "colab": {
          "base_uri": "https://localhost:8080/"
        }
      },
      "source": [
        "gps['type'].value_counts()"
      ],
      "execution_count": 7,
      "outputs": [
        {
          "output_type": "execute_result",
          "data": {
            "text/plain": [
              "normal        35000\n",
              "injection      5000\n",
              "password       5000\n",
              "backdoor       5000\n",
              "ddos           5000\n",
              "ransomware     2833\n",
              "xss             577\n",
              "scanning        550\n",
              "Name: type, dtype: int64"
            ]
          },
          "metadata": {
            "tags": []
          },
          "execution_count": 7
        }
      ]
    },
    {
      "cell_type": "code",
      "metadata": {
        "id": "U-eEW53gUOj2"
      },
      "source": [
        "label_type = LabelEncoder()\n",
        "gps['type']=label_type.fit_transform(gps['type'])"
      ],
      "execution_count": 8,
      "outputs": []
    },
    {
      "cell_type": "code",
      "metadata": {
        "id": "LUkvlShfUYdZ",
        "outputId": "52d0c5f0-2695-4ef1-cd02-6382a2de8186",
        "colab": {
          "base_uri": "https://localhost:8080/"
        }
      },
      "source": [
        "gps['type'].value_counts()"
      ],
      "execution_count": 9,
      "outputs": [
        {
          "output_type": "execute_result",
          "data": {
            "text/plain": [
              "3    35000\n",
              "4     5000\n",
              "2     5000\n",
              "1     5000\n",
              "0     5000\n",
              "5     2833\n",
              "7      577\n",
              "6      550\n",
              "Name: type, dtype: int64"
            ]
          },
          "metadata": {
            "tags": []
          },
          "execution_count": 9
        }
      ]
    },
    {
      "cell_type": "code",
      "metadata": {
        "id": "fexYyvHxV6js",
        "outputId": "55109880-7a27-4521-bd09-9395812e34b4",
        "colab": {
          "base_uri": "https://localhost:8080/"
        }
      },
      "source": [
        "gps.isnull().sum()"
      ],
      "execution_count": 10,
      "outputs": [
        {
          "output_type": "execute_result",
          "data": {
            "text/plain": [
              "latitude     0\n",
              "longitude    0\n",
              "type         0\n",
              "dtype: int64"
            ]
          },
          "metadata": {
            "tags": []
          },
          "execution_count": 10
        }
      ]
    },
    {
      "cell_type": "code",
      "metadata": {
        "id": "b0tHqijMYVAW"
      },
      "source": [
        "from sklearn.model_selection import StratifiedShuffleSplit\n",
        "split = StratifiedShuffleSplit(n_splits=1, test_size=0.3, random_state=42)\n",
        "for train_index, test_index in split.split(gps, gps['type']):\n",
        "  strat_train = gps.loc[train_index]\n",
        "  strat_test = gps.loc[test_index]"
      ],
      "execution_count": 11,
      "outputs": []
    },
    {
      "cell_type": "code",
      "metadata": {
        "id": "CX8cBTmAZBLu"
      },
      "source": [
        "gps = strat_train.copy()"
      ],
      "execution_count": 12,
      "outputs": []
    },
    {
      "cell_type": "code",
      "metadata": {
        "id": "-4W-UVLEZFKD",
        "outputId": "72fe0472-c8b0-476a-ba20-37cb7c65551f",
        "colab": {
          "base_uri": "https://localhost:8080/"
        }
      },
      "source": [
        "gps.info()"
      ],
      "execution_count": 13,
      "outputs": [
        {
          "output_type": "stream",
          "text": [
            "<class 'pandas.core.frame.DataFrame'>\n",
            "Int64Index: 41272 entries, 16485 to 655\n",
            "Data columns (total 3 columns):\n",
            " #   Column     Non-Null Count  Dtype  \n",
            "---  ------     --------------  -----  \n",
            " 0   latitude   41272 non-null  float64\n",
            " 1   longitude  41272 non-null  float64\n",
            " 2   type       41272 non-null  int64  \n",
            "dtypes: float64(2), int64(1)\n",
            "memory usage: 1.3 MB\n"
          ],
          "name": "stdout"
        }
      ]
    },
    {
      "cell_type": "code",
      "metadata": {
        "id": "LiEBbquhadpN"
      },
      "source": [
        "##pipeline creation\n",
        "\n",
        "from sklearn.pipeline import Pipeline\n",
        "from sklearn.impute import SimpleImputer\n",
        "from sklearn.preprocessing import StandardScaler\n",
        "my_pipe = Pipeline([\n",
        "    ('imputer', SimpleImputer(strategy=\"median\")),\n",
        "    ('std_scaler', StandardScaler()),\n",
        "])"
      ],
      "execution_count": 14,
      "outputs": []
    },
    {
      "cell_type": "code",
      "metadata": {
        "id": "VlVmrq5AZHvn"
      },
      "source": [
        "X_train=gps.drop(\"type\", axis = 1)\n",
        "Y_train=gps['type'].copy()\n",
        "X_test = strat_test.drop(\"type\",axis = 1)\n",
        "Y_test = strat_test['type'].copy()"
      ],
      "execution_count": 15,
      "outputs": []
    },
    {
      "cell_type": "code",
      "metadata": {
        "id": "q87eEG3CaX2l"
      },
      "source": [
        "X_train = my_pipe.fit_transform(X_train)\n",
        "X_test = my_pipe.fit_transform(X_test)\n",
        "\n",
        "# add rus here"
      ],
      "execution_count": 16,
      "outputs": []
    },
    {
      "cell_type": "code",
      "metadata": {
        "id": "qL-mZsVja8gP",
        "outputId": "db0f12e3-10a8-405d-9554-f53476c08d03",
        "colab": {
          "base_uri": "https://localhost:8080/"
        }
      },
      "source": [
        "from sklearn.ensemble import AdaBoostClassifier\n",
        "from sklearn import metrics\n",
        "#import for normalize, cross val, kfold, randomsearch\n",
        "from sklearn.model_selection import cross_val_score\n",
        "from sklearn.model_selection import KFold\n",
        "from sklearn.model_selection import RandomizedSearchCV\n",
        "\n",
        "##n_estimators is number of weak learners to train iteratively\n",
        "##learning_rate is weight of weak learners\n",
        "abcgps = AdaBoostClassifier(n_estimators = 50, random_state=1)\n",
        "cv = KFold(n_splits=10, shuffle=True, random_state=1)\n",
        "n_scores=cross_val_score(abcgps, X_train, Y_train, scoring='accuracy', cv=cv, n_jobs=1, error_score='raise')\n",
        "print('Accuracy: %3f (%.3f)' % (np.mean(n_scores), np.std(n_scores)))"
      ],
      "execution_count": 17,
      "outputs": [
        {
          "output_type": "stream",
          "text": [
            "Accuracy: 0.636121 (0.010)\n"
          ],
          "name": "stdout"
        }
      ]
    },
    {
      "cell_type": "code",
      "metadata": {
        "id": "FkJiLNVfbc5J",
        "outputId": "db3b8b85-04a8-469b-c72b-a389a67b9bdc",
        "colab": {
          "base_uri": "https://localhost:8080/"
        }
      },
      "source": [
        "abcgps.fit(X_train, Y_train)"
      ],
      "execution_count": 18,
      "outputs": [
        {
          "output_type": "execute_result",
          "data": {
            "text/plain": [
              "AdaBoostClassifier(algorithm='SAMME.R', base_estimator=None, learning_rate=1.0,\n",
              "                   n_estimators=50, random_state=1)"
            ]
          },
          "metadata": {
            "tags": []
          },
          "execution_count": 18
        }
      ]
    },
    {
      "cell_type": "code",
      "metadata": {
        "id": "mBIUFx5LbhOq"
      },
      "source": [
        "y_pred = abcgps.predict(X_test)"
      ],
      "execution_count": 19,
      "outputs": []
    },
    {
      "cell_type": "code",
      "metadata": {
        "id": "_K82E3Ynbm1I",
        "outputId": "5ac1612d-dbe9-4ddb-c86b-1618c8fa3c44",
        "colab": {
          "base_uri": "https://localhost:8080/"
        }
      },
      "source": [
        "print(metrics.classification_report(Y_test,y_pred))"
      ],
      "execution_count": 20,
      "outputs": [
        {
          "output_type": "stream",
          "text": [
            "              precision    recall  f1-score   support\n",
            "\n",
            "           0       0.27      0.80      0.41      1500\n",
            "           1       0.45      0.50      0.47      1500\n",
            "           2       0.00      0.00      0.00      1500\n",
            "           3       0.96      0.81      0.88     10500\n",
            "           4       0.00      0.00      0.00      1500\n",
            "           5       0.27      0.90      0.42       850\n",
            "           6       0.00      0.00      0.00       165\n",
            "           7       0.00      0.00      0.00       173\n",
            "\n",
            "    accuracy                           0.63     17688\n",
            "   macro avg       0.24      0.38      0.27     17688\n",
            "weighted avg       0.65      0.63      0.62     17688\n",
            "\n"
          ],
          "name": "stdout"
        },
        {
          "output_type": "stream",
          "text": [
            "/usr/local/lib/python3.6/dist-packages/sklearn/metrics/_classification.py:1272: UndefinedMetricWarning: Precision and F-score are ill-defined and being set to 0.0 in labels with no predicted samples. Use `zero_division` parameter to control this behavior.\n",
            "  _warn_prf(average, modifier, msg_start, len(result))\n"
          ],
          "name": "stderr"
        }
      ]
    },
    {
      "cell_type": "code",
      "metadata": {
        "id": "HFDRzvicbwe_",
        "outputId": "85bc93ae-9df5-4193-a114-495ee862aa06",
        "colab": {
          "base_uri": "https://localhost:8080/",
          "height": 284
        }
      },
      "source": [
        "cm = metrics.confusion_matrix(Y_test, y_pred)\n",
        "import seaborn as sns\n",
        "sns.heatmap(cm)"
      ],
      "execution_count": 21,
      "outputs": [
        {
          "output_type": "execute_result",
          "data": {
            "text/plain": [
              "<matplotlib.axes._subplots.AxesSubplot at 0x7f0b345aa3c8>"
            ]
          },
          "metadata": {
            "tags": []
          },
          "execution_count": 21
        },
        {
          "output_type": "display_data",
          "data": {
            "image/png": "[encoded data removed]",
            "text/plain": [
              "<Figure size 432x288 with 2 Axes>"
            ]
          },
          "metadata": {
            "tags": [],
            "needs_background": "light"
          }
        }
      ]
    },
    {
      "cell_type": "markdown",
      "metadata": {
        "id": "QZWmmWoyIrb8"
      },
      "source": [
        "![image.png](data:image/png;base64,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)"
      ]
    },
    {
      "cell_type": "markdown",
      "metadata": {
        "id": "AcJg9mVLIxO1"
      },
      "source": [
        "## **Hyper Parameter Tuning**"
      ]
    },
    {
      "cell_type": "code",
      "metadata": {
        "id": "vPawEG1fIq9R"
      },
      "source": [
        "parameters = {\"learning_rate\":[0.1,0.01,0.001],\n",
        "              \"n_estimators\":[100,250,500,1000]}\n",
        "search = RandomizedSearchCV(abcgps, param_distributions=parameters, scoring='accuracy', cv=10,\n",
        "                            verbose=3, random_state=42)"
      ],
      "execution_count": 22,
      "outputs": []
    },
    {
      "cell_type": "code",
      "metadata": {
        "id": "X8SgkUYhJQ0N",
        "outputId": "bda36f91-71f1-47c4-86e2-1e0ca3d246e8",
        "colab": {
          "base_uri": "https://localhost:8080/"
        }
      },
      "source": [
        "model_abc = search.fit(X_train, Y_train)"
      ],
      "execution_count": 23,
      "outputs": [
        {
          "output_type": "stream",
          "text": [
            "Fitting 10 folds for each of 10 candidates, totalling 100 fits\n",
            "[CV] n_estimators=500, learning_rate=0.001 ...........................\n"
          ],
          "name": "stdout"
        },
        {
          "output_type": "stream",
          "text": [
            "[Parallel(n_jobs=1)]: Using backend SequentialBackend with 1 concurrent workers.\n"
          ],
          "name": "stderr"
        },
        {
          "output_type": "stream",
          "text": [
            "[CV]  n_estimators=500, learning_rate=0.001, score=0.594, total=  18.9s\n",
            "[CV] n_estimators=500, learning_rate=0.001 ...........................\n"
          ],
          "name": "stdout"
        },
        {
          "output_type": "stream",
          "text": [
            "[Parallel(n_jobs=1)]: Done   1 out of   1 | elapsed:   18.9s remaining:    0.0s\n"
          ],
          "name": "stderr"
        },
        {
          "output_type": "stream",
          "text": [
            "[CV]  n_estimators=500, learning_rate=0.001, score=0.594, total=  18.7s\n",
            "[CV] n_estimators=500, learning_rate=0.001 ...........................\n"
          ],
          "name": "stdout"
        },
        {
          "output_type": "stream",
          "text": [
            "[Parallel(n_jobs=1)]: Done   2 out of   2 | elapsed:   37.6s remaining:    0.0s\n"
          ],
          "name": "stderr"
        },
        {
          "output_type": "stream",
          "text": [
            "[CV]  n_estimators=500, learning_rate=0.001, score=0.594, total=  19.0s\n",
            "[CV] n_estimators=500, learning_rate=0.001 ...........................\n",
            "[CV]  n_estimators=500, learning_rate=0.001, score=0.594, total=  20.0s\n",
            "[CV] n_estimators=500, learning_rate=0.001 ...........................\n",
            "[CV]  n_estimators=500, learning_rate=0.001, score=0.594, total=  19.1s\n",
            "[CV] n_estimators=500, learning_rate=0.001 ...........................\n",
            "[CV]  n_estimators=500, learning_rate=0.001, score=0.594, total=  19.9s\n",
            "[CV] n_estimators=500, learning_rate=0.001 ...........................\n",
            "[CV]  n_estimators=500, learning_rate=0.001, score=0.594, total=  21.6s\n",
            "[CV] n_estimators=500, learning_rate=0.001 ...........................\n",
            "[CV]  n_estimators=500, learning_rate=0.001, score=0.594, total=  20.4s\n",
            "[CV] n_estimators=500, learning_rate=0.001 ...........................\n",
            "[CV]  n_estimators=500, learning_rate=0.001, score=0.594, total=  19.2s\n",
            "[CV] n_estimators=500, learning_rate=0.001 ...........................\n",
            "[CV]  n_estimators=500, learning_rate=0.001, score=0.594, total=  18.8s\n",
            "[CV] n_estimators=250, learning_rate=0.001 ...........................\n",
            "[CV]  n_estimators=250, learning_rate=0.001, score=0.594, total=   9.5s\n",
            "[CV] n_estimators=250, learning_rate=0.001 ...........................\n",
            "[CV]  n_estimators=250, learning_rate=0.001, score=0.594, total=   9.5s\n",
            "[CV] n_estimators=250, learning_rate=0.001 ...........................\n",
            "[CV]  n_estimators=250, learning_rate=0.001, score=0.594, total=   9.6s\n",
            "[CV] n_estimators=250, learning_rate=0.001 ...........................\n",
            "[CV]  n_estimators=250, learning_rate=0.001, score=0.594, total=   9.9s\n",
            "[CV] n_estimators=250, learning_rate=0.001 ...........................\n",
            "[CV]  n_estimators=250, learning_rate=0.001, score=0.594, total=   9.9s\n",
            "[CV] n_estimators=250, learning_rate=0.001 ...........................\n",
            "[CV]  n_estimators=250, learning_rate=0.001, score=0.594, total=   9.9s\n",
            "[CV] n_estimators=250, learning_rate=0.001 ...........................\n",
            "[CV]  n_estimators=250, learning_rate=0.001, score=0.594, total=   9.9s\n",
            "[CV] n_estimators=250, learning_rate=0.001 ...........................\n",
            "[CV]  n_estimators=250, learning_rate=0.001, score=0.594, total=  10.3s\n",
            "[CV] n_estimators=250, learning_rate=0.001 ...........................\n",
            "[CV]  n_estimators=250, learning_rate=0.001, score=0.594, total=   9.6s\n",
            "[CV] n_estimators=250, learning_rate=0.001 ...........................\n",
            "[CV]  n_estimators=250, learning_rate=0.001, score=0.594, total=   9.4s\n",
            "[CV] n_estimators=100, learning_rate=0.1 .............................\n",
            "[CV] . n_estimators=100, learning_rate=0.1, score=0.141, total=   3.8s\n",
            "[CV] n_estimators=100, learning_rate=0.1 .............................\n",
            "[CV] . n_estimators=100, learning_rate=0.1, score=0.139, total=   3.8s\n",
            "[CV] n_estimators=100, learning_rate=0.1 .............................\n",
            "[CV] . n_estimators=100, learning_rate=0.1, score=0.134, total=   3.9s\n",
            "[CV] n_estimators=100, learning_rate=0.1 .............................\n",
            "[CV] . n_estimators=100, learning_rate=0.1, score=0.139, total=   3.9s\n",
            "[CV] n_estimators=100, learning_rate=0.1 .............................\n",
            "[CV] . n_estimators=100, learning_rate=0.1, score=0.141, total=   4.0s\n",
            "[CV] n_estimators=100, learning_rate=0.1 .............................\n",
            "[CV] . n_estimators=100, learning_rate=0.1, score=0.139, total=   3.9s\n",
            "[CV] n_estimators=100, learning_rate=0.1 .............................\n",
            "[CV] . n_estimators=100, learning_rate=0.1, score=0.139, total=   3.9s\n",
            "[CV] n_estimators=100, learning_rate=0.1 .............................\n",
            "[CV] . n_estimators=100, learning_rate=0.1, score=0.136, total=   4.0s\n",
            "[CV] n_estimators=100, learning_rate=0.1 .............................\n",
            "[CV] . n_estimators=100, learning_rate=0.1, score=0.138, total=   3.9s\n",
            "[CV] n_estimators=100, learning_rate=0.1 .............................\n",
            "[CV] . n_estimators=100, learning_rate=0.1, score=0.137, total=   3.9s\n",
            "[CV] n_estimators=100, learning_rate=0.001 ...........................\n",
            "[CV]  n_estimators=100, learning_rate=0.001, score=0.594, total=   3.9s\n",
            "[CV] n_estimators=100, learning_rate=0.001 ...........................\n",
            "[CV]  n_estimators=100, learning_rate=0.001, score=0.594, total=   3.9s\n",
            "[CV] n_estimators=100, learning_rate=0.001 ...........................\n",
            "[CV]  n_estimators=100, learning_rate=0.001, score=0.594, total=   3.9s\n",
            "[CV] n_estimators=100, learning_rate=0.001 ...........................\n",
            "[CV]  n_estimators=100, learning_rate=0.001, score=0.594, total=   3.9s\n",
            "[CV] n_estimators=100, learning_rate=0.001 ...........................\n",
            "[CV]  n_estimators=100, learning_rate=0.001, score=0.594, total=   3.9s\n",
            "[CV] n_estimators=100, learning_rate=0.001 ...........................\n",
            "[CV]  n_estimators=100, learning_rate=0.001, score=0.594, total=   3.8s\n",
            "[CV] n_estimators=100, learning_rate=0.001 ...........................\n",
            "[CV]  n_estimators=100, learning_rate=0.001, score=0.594, total=   3.9s\n",
            "[CV] n_estimators=100, learning_rate=0.001 ...........................\n",
            "[CV]  n_estimators=100, learning_rate=0.001, score=0.594, total=   3.9s\n",
            "[CV] n_estimators=100, learning_rate=0.001 ...........................\n",
            "[CV]  n_estimators=100, learning_rate=0.001, score=0.594, total=   3.8s\n",
            "[CV] n_estimators=100, learning_rate=0.001 ...........................\n",
            "[CV]  n_estimators=100, learning_rate=0.001, score=0.594, total=   3.9s\n",
            "[CV] n_estimators=250, learning_rate=0.01 ............................\n",
            "[CV]  n_estimators=250, learning_rate=0.01, score=0.138, total=   9.6s\n",
            "[CV] n_estimators=250, learning_rate=0.01 ............................\n",
            "[CV]  n_estimators=250, learning_rate=0.01, score=0.138, total=   9.5s\n",
            "[CV] n_estimators=250, learning_rate=0.01 ............................\n",
            "[CV]  n_estimators=250, learning_rate=0.01, score=0.134, total=   9.6s\n",
            "[CV] n_estimators=250, learning_rate=0.01 ............................\n",
            "[CV]  n_estimators=250, learning_rate=0.01, score=0.135, total=   9.7s\n",
            "[CV] n_estimators=250, learning_rate=0.01 ............................\n",
            "[CV]  n_estimators=250, learning_rate=0.01, score=0.132, total=   9.6s\n",
            "[CV] n_estimators=250, learning_rate=0.01 ............................\n",
            "[CV]  n_estimators=250, learning_rate=0.01, score=0.135, total=   9.6s\n",
            "[CV] n_estimators=250, learning_rate=0.01 ............................\n",
            "[CV]  n_estimators=250, learning_rate=0.01, score=0.135, total=   9.8s\n",
            "[CV] n_estimators=250, learning_rate=0.01 ............................\n",
            "[CV]  n_estimators=250, learning_rate=0.01, score=0.134, total=  10.3s\n",
            "[CV] n_estimators=250, learning_rate=0.01 ............................\n",
            "[CV]  n_estimators=250, learning_rate=0.01, score=0.141, total=  10.8s\n",
            "[CV] n_estimators=250, learning_rate=0.01 ............................\n",
            "[CV]  n_estimators=250, learning_rate=0.01, score=0.136, total=  10.9s\n",
            "[CV] n_estimators=500, learning_rate=0.1 .............................\n",
            "[CV] . n_estimators=500, learning_rate=0.1, score=0.141, total=  20.1s\n",
            "[CV] n_estimators=500, learning_rate=0.1 .............................\n",
            "[CV] . n_estimators=500, learning_rate=0.1, score=0.140, total=  19.9s\n",
            "[CV] n_estimators=500, learning_rate=0.1 .............................\n",
            "[CV] . n_estimators=500, learning_rate=0.1, score=0.134, total=  19.7s\n",
            "[CV] n_estimators=500, learning_rate=0.1 .............................\n",
            "[CV] . n_estimators=500, learning_rate=0.1, score=0.139, total=  19.3s\n",
            "[CV] n_estimators=500, learning_rate=0.1 .............................\n",
            "[CV] . n_estimators=500, learning_rate=0.1, score=0.138, total=  19.1s\n",
            "[CV] n_estimators=500, learning_rate=0.1 .............................\n",
            "[CV] . n_estimators=500, learning_rate=0.1, score=0.139, total=  19.9s\n",
            "[CV] n_estimators=500, learning_rate=0.1 .............................\n",
            "[CV] . n_estimators=500, learning_rate=0.1, score=0.138, total=  19.2s\n",
            "[CV] n_estimators=500, learning_rate=0.1 .............................\n",
            "[CV] . n_estimators=500, learning_rate=0.1, score=0.136, total=  19.2s\n",
            "[CV] n_estimators=500, learning_rate=0.1 .............................\n",
            "[CV] . n_estimators=500, learning_rate=0.1, score=0.137, total=  18.9s\n",
            "[CV] n_estimators=500, learning_rate=0.1 .............................\n",
            "[CV] . n_estimators=500, learning_rate=0.1, score=0.137, total=  18.8s\n",
            "[CV] n_estimators=250, learning_rate=0.1 .............................\n",
            "[CV] . n_estimators=250, learning_rate=0.1, score=0.141, total=   9.4s\n",
            "[CV] n_estimators=250, learning_rate=0.1 .............................\n",
            "[CV] . n_estimators=250, learning_rate=0.1, score=0.139, total=   9.4s\n",
            "[CV] n_estimators=250, learning_rate=0.1 .............................\n",
            "[CV] . n_estimators=250, learning_rate=0.1, score=0.134, total=   9.3s\n",
            "[CV] n_estimators=250, learning_rate=0.1 .............................\n",
            "[CV] . n_estimators=250, learning_rate=0.1, score=0.139, total=   9.5s\n",
            "[CV] n_estimators=250, learning_rate=0.1 .............................\n",
            "[CV] . n_estimators=250, learning_rate=0.1, score=0.141, total=   9.9s\n",
            "[CV] n_estimators=250, learning_rate=0.1 .............................\n",
            "[CV] . n_estimators=250, learning_rate=0.1, score=0.140, total=   9.5s\n",
            "[CV] n_estimators=250, learning_rate=0.1 .............................\n",
            "[CV] . n_estimators=250, learning_rate=0.1, score=0.139, total=   9.6s\n",
            "[CV] n_estimators=250, learning_rate=0.1 .............................\n",
            "[CV] . n_estimators=250, learning_rate=0.1, score=0.136, total=   9.8s\n",
            "[CV] n_estimators=250, learning_rate=0.1 .............................\n",
            "[CV] . n_estimators=250, learning_rate=0.1, score=0.137, total=   9.6s\n",
            "[CV] n_estimators=250, learning_rate=0.1 .............................\n",
            "[CV] . n_estimators=250, learning_rate=0.1, score=0.137, total=   9.6s\n",
            "[CV] n_estimators=1000, learning_rate=0.001 ..........................\n",
            "[CV]  n_estimators=1000, learning_rate=0.001, score=0.646, total=  39.7s\n",
            "[CV] n_estimators=1000, learning_rate=0.001 ..........................\n",
            "[CV]  n_estimators=1000, learning_rate=0.001, score=0.647, total=  38.8s\n",
            "[CV] n_estimators=1000, learning_rate=0.001 ..........................\n",
            "[CV]  n_estimators=1000, learning_rate=0.001, score=0.649, total=  37.7s\n",
            "[CV] n_estimators=1000, learning_rate=0.001 ..........................\n",
            "[CV]  n_estimators=1000, learning_rate=0.001, score=0.645, total=  38.7s\n",
            "[CV] n_estimators=1000, learning_rate=0.001 ..........................\n",
            "[CV]  n_estimators=1000, learning_rate=0.001, score=0.645, total=  38.2s\n",
            "[CV] n_estimators=1000, learning_rate=0.001 ..........................\n",
            "[CV]  n_estimators=1000, learning_rate=0.001, score=0.645, total=  37.3s\n",
            "[CV] n_estimators=1000, learning_rate=0.001 ..........................\n",
            "[CV]  n_estimators=1000, learning_rate=0.001, score=0.644, total=  37.3s\n",
            "[CV] n_estimators=1000, learning_rate=0.001 ..........................\n",
            "[CV]  n_estimators=1000, learning_rate=0.001, score=0.645, total=  37.5s\n",
            "[CV] n_estimators=1000, learning_rate=0.001 ..........................\n",
            "[CV]  n_estimators=1000, learning_rate=0.001, score=0.651, total=  39.6s\n",
            "[CV] n_estimators=1000, learning_rate=0.001 ..........................\n",
            "[CV]  n_estimators=1000, learning_rate=0.001, score=0.646, total=  39.6s\n",
            "[CV] n_estimators=100, learning_rate=0.01 ............................\n",
            "[CV]  n_estimators=100, learning_rate=0.01, score=0.646, total=   5.6s\n",
            "[CV] n_estimators=100, learning_rate=0.01 ............................\n",
            "[CV]  n_estimators=100, learning_rate=0.01, score=0.647, total=   4.3s\n",
            "[CV] n_estimators=100, learning_rate=0.01 ............................\n",
            "[CV]  n_estimators=100, learning_rate=0.01, score=0.645, total=   4.0s\n",
            "[CV] n_estimators=100, learning_rate=0.01 ............................\n",
            "[CV]  n_estimators=100, learning_rate=0.01, score=0.645, total=   4.0s\n",
            "[CV] n_estimators=100, learning_rate=0.01 ............................\n",
            "[CV]  n_estimators=100, learning_rate=0.01, score=0.645, total=   3.9s\n",
            "[CV] n_estimators=100, learning_rate=0.01 ............................\n",
            "[CV]  n_estimators=100, learning_rate=0.01, score=0.645, total=   3.8s\n",
            "[CV] n_estimators=100, learning_rate=0.01 ............................\n",
            "[CV]  n_estimators=100, learning_rate=0.01, score=0.642, total=   3.9s\n",
            "[CV] n_estimators=100, learning_rate=0.01 ............................\n",
            "[CV]  n_estimators=100, learning_rate=0.01, score=0.645, total=   4.0s\n",
            "[CV] n_estimators=100, learning_rate=0.01 ............................\n",
            "[CV]  n_estimators=100, learning_rate=0.01, score=0.650, total=   3.9s\n",
            "[CV] n_estimators=100, learning_rate=0.01 ............................\n",
            "[CV]  n_estimators=100, learning_rate=0.01, score=0.645, total=   4.1s\n",
            "[CV] n_estimators=1000, learning_rate=0.01 ...........................\n",
            "[CV]  n_estimators=1000, learning_rate=0.01, score=0.141, total=  40.5s\n",
            "[CV] n_estimators=1000, learning_rate=0.01 ...........................\n",
            "[CV]  n_estimators=1000, learning_rate=0.01, score=0.141, total=  38.4s\n",
            "[CV] n_estimators=1000, learning_rate=0.01 ...........................\n",
            "[CV]  n_estimators=1000, learning_rate=0.01, score=0.136, total=  39.1s\n",
            "[CV] n_estimators=1000, learning_rate=0.01 ...........................\n",
            "[CV]  n_estimators=1000, learning_rate=0.01, score=0.139, total=  39.2s\n",
            "[CV] n_estimators=1000, learning_rate=0.01 ...........................\n",
            "[CV]  n_estimators=1000, learning_rate=0.01, score=0.140, total=  38.6s\n",
            "[CV] n_estimators=1000, learning_rate=0.01 ...........................\n",
            "[CV]  n_estimators=1000, learning_rate=0.01, score=0.140, total=  41.2s\n",
            "[CV] n_estimators=1000, learning_rate=0.01 ...........................\n",
            "[CV]  n_estimators=1000, learning_rate=0.01, score=0.140, total=  38.2s\n",
            "[CV] n_estimators=1000, learning_rate=0.01 ...........................\n",
            "[CV]  n_estimators=1000, learning_rate=0.01, score=0.138, total=  38.1s\n",
            "[CV] n_estimators=1000, learning_rate=0.01 ...........................\n",
            "[CV]  n_estimators=1000, learning_rate=0.01, score=0.139, total=  38.6s\n",
            "[CV] n_estimators=1000, learning_rate=0.01 ...........................\n",
            "[CV]  n_estimators=1000, learning_rate=0.01, score=0.140, total=  37.6s\n"
          ],
          "name": "stdout"
        },
        {
          "output_type": "stream",
          "text": [
            "[Parallel(n_jobs=1)]: Done 100 out of 100 | elapsed: 26.3min finished\n"
          ],
          "name": "stderr"
        }
      ]
    },
    {
      "cell_type": "code",
      "metadata": {
        "id": "6BWDkOxVJcnX"
      },
      "source": [
        "abc_final = AdaBoostClassifier(random_state=42, n_estimators=model_abc.best_params_['n_estimators'],learning_rate=model_abc.best_params_['learning_rate'])\n",
        "abc_final.fit(X_train, Y_train)\n",
        "\n",
        "y_pred1 = abc_final.predict(X_test)"
      ],
      "execution_count": 24,
      "outputs": []
    },
    {
      "cell_type": "code",
      "metadata": {
        "id": "VFfn_ydhJwjG",
        "outputId": "65ee3fb3-e14b-40ae-9e91-4cd3ff832c36",
        "colab": {
          "base_uri": "https://localhost:8080/"
        }
      },
      "source": [
        "print(metrics.classification_report(Y_test, y_pred1))"
      ],
      "execution_count": 25,
      "outputs": [
        {
          "output_type": "stream",
          "text": [
            "              precision    recall  f1-score   support\n",
            "\n",
            "           0       0.00      0.00      0.00      1500\n",
            "           1       0.00      0.00      0.00      1500\n",
            "           2       0.34      0.40      0.37      1500\n",
            "           3       0.74      0.98      0.85     10500\n",
            "           4       0.25      0.34      0.29      1500\n",
            "           5       0.00      0.00      0.00       850\n",
            "           6       0.00      0.00      0.00       165\n",
            "           7       0.00      0.00      0.00       173\n",
            "\n",
            "    accuracy                           0.65     17688\n",
            "   macro avg       0.17      0.22      0.19     17688\n",
            "weighted avg       0.49      0.65      0.56     17688\n",
            "\n"
          ],
          "name": "stdout"
        },
        {
          "output_type": "stream",
          "text": [
            "/usr/local/lib/python3.6/dist-packages/sklearn/metrics/_classification.py:1272: UndefinedMetricWarning: Precision and F-score are ill-defined and being set to 0.0 in labels with no predicted samples. Use `zero_division` parameter to control this behavior.\n",
            "  _warn_prf(average, modifier, msg_start, len(result))\n"
          ],
          "name": "stderr"
        }
      ]
    },
    {
      "cell_type": "code",
      "metadata": {
        "id": "uow4N_fBUpze",
        "outputId": "a67f22ce-e5bb-4edf-89f1-c1690922caf3",
        "colab": {
          "base_uri": "https://localhost:8080/",
          "height": 284
        }
      },
      "source": [
        "cm1 = metrics.confusion_matrix(Y_test, y_pred1)\n",
        "import seaborn as sns\n",
        "sns.heatmap(cm)"
      ],
      "execution_count": 26,
      "outputs": [
        {
          "output_type": "execute_result",
          "data": {
            "text/plain": [
              "<matplotlib.axes._subplots.AxesSubplot at 0x7f0b31719978>"
            ]
          },
          "metadata": {
            "tags": []
          },
          "execution_count": 26
        },
        {
          "output_type": "display_data",
          "data": {
            "image/png": "[encoded data removed]",
            "text/plain": [
              "<Figure size 432x288 with 2 Axes>"
            ]
          },
          "metadata": {
            "tags": [],
            "needs_background": "light"
          }
        }
      ]
    }
  ]
}